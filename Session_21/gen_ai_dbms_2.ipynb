{
  "nbformat": 4,
  "nbformat_minor": 0,
  "metadata": {
    "colab": {
      "provenance": []
    },
    "kernelspec": {
      "name": "python3",
      "display_name": "Python 3"
    },
    "language_info": {
      "name": "python"
    }
  },
  "cells": [
    {
      "cell_type": "code",
      "execution_count": null,
      "metadata": {
        "id": "l-aRSNuye7ya"
      },
      "outputs": [],
      "source": [
        "import sqlite3\n",
        "from datetime import datetime, timedelta"
      ]
    },
    {
      "cell_type": "code",
      "source": [
        "#connect to local sqlite database (create if it is not existing)\n",
        "conn = sqlite3.connect('office_data.db')\n",
        "cursor = conn.cursor()"
      ],
      "metadata": {
        "id": "MMwy2DCffBUt"
      },
      "execution_count": null,
      "outputs": []
    },
    {
      "cell_type": "code",
      "source": [
        "#Create an attendance table\n",
        "cursor.execute(\"\"\"\n",
        "create table if not exists attendance(\n",
        "  id integer primary key autoincrement,\n",
        "  name text,\n",
        "  date text\n",
        ")\n",
        "\"\"\")"
      ],
      "metadata": {
        "colab": {
          "base_uri": "https://localhost:8080/"
        },
        "id": "UP_tsxxMfDLV",
        "outputId": "1a952ee5-64ea-4a15-a694-4efdbb430ba4"
      },
      "execution_count": null,
      "outputs": [
        {
          "output_type": "execute_result",
          "data": {
            "text/plain": [
              "<sqlite3.Cursor at 0x7e6c3e66d140>"
            ]
          },
          "metadata": {},
          "execution_count": 3
        }
      ]
    },
    {
      "cell_type": "code",
      "source": [
        "#Insert some sample data\n",
        "\n",
        "today = datetime.now()\n",
        "\n",
        "for i in range(3):\n",
        "  day = today - timedelta(days=i)\n",
        "  for j in range(100 + i * 10):\n",
        "    cursor.execute(\"insert into attendance(name,date) values (?,?)\", (f\"person_{j+1}\" , day.strftime(\"%Y-%m-%d\")))\n",
        "\n",
        "conn.commit()\n",
        "conn.close()"
      ],
      "metadata": {
        "id": "7Qv8DvkVfE8s"
      },
      "execution_count": null,
      "outputs": []
    },
    {
      "cell_type": "code",
      "source": [
        "conn = sqlite3.connect('office_data.db')\n",
        "cursor = conn.cursor()\n",
        "\n",
        "cursor.execute(\"select * from attendance limit 5\")\n",
        "rows = cursor.fetchall()\n",
        "for row in rows:\n",
        "  print(row)\n",
        "\n",
        "conn.commit()\n",
        "conn.close()"
      ],
      "metadata": {
        "colab": {
          "base_uri": "https://localhost:8080/"
        },
        "id": "ML_4qoiZfHYf",
        "outputId": "c252df5d-3bd5-47d6-a573-c8373394610a"
      },
      "execution_count": null,
      "outputs": [
        {
          "output_type": "stream",
          "name": "stdout",
          "text": [
            "(1, 'person_1', '2025-07-22')\n",
            "(2, 'person_2', '2025-07-22')\n",
            "(3, 'person_3', '2025-07-22')\n",
            "(4, 'person_4', '2025-07-22')\n",
            "(5, 'person_5', '2025-07-22')\n"
          ]
        }
      ]
    },
    {
      "cell_type": "code",
      "source": [
        "import google.generativeai as genai\n",
        "from google.colab import userdata\n",
        "\n",
        "genai.configure(api_key = userdata.get('GEMINI_API_KEY'))"
      ],
      "metadata": {
        "id": "019l6ObPiB_B"
      },
      "execution_count": null,
      "outputs": []
    },
    {
      "cell_type": "code",
      "source": [
        "gemini_model = genai.GenerativeModel('models/gemini-2.5-flash')"
      ],
      "metadata": {
        "id": "hm9KAF2viXWD"
      },
      "execution_count": null,
      "outputs": []
    },
    {
      "cell_type": "code",
      "source": [
        "def chatbot_query_handler(user_query):\n",
        "  conn = sqlite3.connect('office_data.db')\n",
        "  cursor = conn.cursor()\n",
        "\n",
        "  #prompt for gemini to generate SQL query\n",
        "  prompt = f\"\"\"\n",
        "  Based on the following user query, Generate a SQLite SQL query to reterive information from the 'attendance' table.\n",
        "  The 'attendance' table has columns 'id' (integer), 'name' (text), 'date' (text).\n",
        "  The date format in the table is 'YYYY-MM-DD'.\n",
        "  For example, If the user asks 'How many people were in the office yesterday?', the SQL query should be:\n",
        "  SELECT count(*) from attendance where date = 'YYYY-MM-DD_for_yesterday'\n",
        "  Replace 'YYYY-MM-DD_for_yesterday' with the actual date for yesterday.\n",
        "  If the user asks for employees present on one day but not another, use a query with EXCEPT.\n",
        "  If the user asks for attendance of a specific person, filter by name.\n",
        "  You need to generate appropriate prompt based on user query that can be provide the result user is expecting from the 'attendance' table.\n",
        "\n",
        "  User query : {user_query}\n",
        "  \"\"\"\n",
        "\n",
        "  try:\n",
        "    response = gemini_model.generate_content(prompt)\n",
        "    generate_sql = response.text.replace(\"sqlite\",\"\").strip()\n",
        "    generate_sql = generate_sql.replace(\"```\",\"\").strip()\n",
        "    print(f\"Generated SQL: {generate_sql}\")\n",
        "\n",
        "    conn.close()\n",
        "    return generate_sql\n",
        "  except Exception as e:\n",
        "    conn.close()\n",
        "    print(f\"Bot: An error occured while generating SQL query with GEMINI: {e}\")\n"
      ],
      "metadata": {
        "id": "kDzYuPHjfJjX"
      },
      "execution_count": null,
      "outputs": []
    },
    {
      "cell_type": "code",
      "source": [
        "#Test the querries-\n",
        "queries = [\n",
        "    \"How many people were in the office today?\",\n",
        "    \"How many people were in the office on 2025-07-19?\",\n",
        "    \"How many people were in the office yesterday?\",\n",
        "    \"Show me the attendance for '2025-07-18\",\n",
        "    \"Show me the attendance for '2025-07-20\",\n",
        "    \"Tell me about those employees who present yesterday but not today\",\n",
        "    \"Attendance report of person_101\",\n",
        "    \"Tell me something else\"\n",
        "]\n",
        "\n",
        "for query in queries:\n",
        "  print(f\"User: {query}\")\n",
        "  response = chatbot_query_handler(query)\n",
        "  print(f\"{response}\")\n",
        "  print()"
      ],
      "metadata": {
        "colab": {
          "base_uri": "https://localhost:8080/",
          "height": 848
        },
        "id": "grCuRQmKj6BP",
        "outputId": "f770d8d8-d31b-4004-e5f9-9bb9626395c5"
      },
      "execution_count": null,
      "outputs": [
        {
          "output_type": "stream",
          "name": "stdout",
          "text": [
            "User: How many people were in the office today?\n",
            "Generated SQL: SELECT count(*) FROM attendance WHERE date = DATE('now')\n",
            "SELECT count(*) FROM attendance WHERE date = DATE('now')\n",
            "\n",
            "User: How many people were in the office on 2025-07-19?\n",
            "Generated SQL: SELECT count(*) FROM attendance WHERE date = '2025-07-19'\n",
            "SELECT count(*) FROM attendance WHERE date = '2025-07-19'\n",
            "\n",
            "User: How many people were in the office yesterday?\n",
            "Generated SQL: SELECT count(*) FROM attendance WHERE date = DATE('now', '-1 day');\n",
            "SELECT count(*) FROM attendance WHERE date = DATE('now', '-1 day');\n",
            "\n",
            "User: Show me the attendance for '2025-07-18\n",
            "Generated SQL: SELECT * FROM attendance WHERE date = '2025-07-18'\n",
            "SELECT * FROM attendance WHERE date = '2025-07-18'\n",
            "\n",
            "User: Show me the attendance for '2025-07-20\n",
            "Generated SQL: SELECT name FROM attendance WHERE date = '2025-07-20'\n",
            "SELECT name FROM attendance WHERE date = '2025-07-20'\n",
            "\n",
            "User: Tell me about those employees who present yesterday but not today\n",
            "Generated SQL: SELECT name FROM attendance WHERE date = date('now', '-1 day')\n",
            "EXCEPT\n",
            "SELECT name FROM attendance WHERE date = date('now', 'localtime');\n",
            "SELECT name FROM attendance WHERE date = date('now', '-1 day')\n",
            "EXCEPT\n",
            "SELECT name FROM attendance WHERE date = date('now', 'localtime');\n",
            "\n",
            "User: Attendance report of person_101\n",
            "Generated SQL: SELECT date FROM attendance WHERE name = 'person_101';\n",
            "SELECT date FROM attendance WHERE name = 'person_101';\n",
            "\n",
            "User: Tell me something else\n",
            "Generated SQL: Your request is too general. Please tell me what information you would like to retrieve from the attendance table. For example, you could ask:\n",
            "\n",
            "*   \"How many people were present today?\"\n",
            "*   \"Who was present on 2023-10-26?\"\n",
            "*   \"What was John Doe's attendance record?\"\n",
            "*   \"Who was present last week?\"\n",
            "Your request is too general. Please tell me what information you would like to retrieve from the attendance table. For example, you could ask:\n",
            "\n",
            "*   \"How many people were present today?\"\n",
            "*   \"Who was present on 2023-10-26?\"\n",
            "*   \"What was John Doe's attendance record?\"\n",
            "*   \"Who was present last week?\"\n",
            "\n"
          ]
        }
      ]
    },
    {
      "cell_type": "code",
      "source": [
        "def chatbot_query_handler(user_query):\n",
        "  conn = sqlite3.connect('office_data.db')\n",
        "  cursor = conn.cursor()\n",
        "\n",
        "  #prompt for gemini to generate SQL query\n",
        "  prompt = f\"\"\"\n",
        "  Based on the following user query, Generate a SQLite SQL query to reterive information from the 'attendance' table.\n",
        "  The 'attendance' table has columns 'id' (integer), 'name' (text), 'date' (text).\n",
        "  The date format in the table is 'YYYY-MM-DD'.\n",
        "  For example, If the user asks 'How many people were in the office yesterday?', the SQL query should be:\n",
        "  SELECT count(*) from attendance where date = 'YYYY-MM-DD_for_yesterday'\n",
        "  Replace 'YYYY-MM-DD_for_yesterday' with the actual date for yesterday.\n",
        "  If the user asks for employees present on one day but not another, use a query with EXCEPT.\n",
        "  If the user asks for attendance of a specific person, filter by name.\n",
        "  You need to generate appropriate prompt based on user query that can be provide the result user is expecting from the 'attendance' table.\n",
        "\n",
        "  User query : {user_query}\n",
        "  \"\"\"\n",
        "\n",
        "  try:\n",
        "    response = gemini_model.generate_content(prompt)\n",
        "    generate_sql = response.text.replace(\"sqlite\",\"\").strip()\n",
        "    generate_sql = generate_sql.replace(\"```\",\"\").strip()\n",
        "    print(generate_sql)\n",
        "\n",
        "    cursor.execute(generate_sql)\n",
        "    result = cursor.fetchall()\n",
        "\n",
        "    conn.close()\n",
        "    return result, len(result)\n",
        "  except Exception as e:\n",
        "    conn.close()\n",
        "    print(f\"Bot: An error occured while generating SQL query with GEMINI: {e}\")\n"
      ],
      "metadata": {
        "id": "5VhLg2Btk50c"
      },
      "execution_count": null,
      "outputs": []
    },
    {
      "cell_type": "code",
      "source": [
        "#Test the querries-\n",
        "queries = [\n",
        "    \"How many people were in the office today?\",\n",
        "    \"How many people were in the office on 2025-07-19?\",\n",
        "    \"How many people were in the office yesterday?\",\n",
        "    \"Show me the attendance for '2025-07-18\",\n",
        "    \"Show me the attendance for '2025-07-20\",\n",
        "    \"Tell me about those employees who present yesterday but not today\",\n",
        "    \"Attendance report of person_101\",\n",
        "    \"Tell me something else\"\n",
        "]\n",
        "\n",
        "for query in queries:\n",
        "  print(f\"User: {query}\")\n",
        "  response = chatbot_query_handler(query)\n",
        "  print(f\"{response}\")\n",
        "  print()"
      ],
      "metadata": {
        "colab": {
          "base_uri": "https://localhost:8080/",
          "height": 795
        },
        "id": "sQV86wZ5mWQg",
        "outputId": "20ab9134-0269-4103-ff8a-984c8c1c5429"
      },
      "execution_count": null,
      "outputs": [
        {
          "output_type": "stream",
          "name": "stdout",
          "text": [
            "User: How many people were in the office today?\n",
            "SELECT count(*) FROM attendance WHERE date = CURRENT_DATE;\n",
            "([(100,)], 1)\n",
            "\n",
            "User: How many people were in the office on 2025-07-19?\n",
            "SELECT count(*) FROM attendance WHERE date = '2025-07-19'\n",
            "([(0,)], 1)\n",
            "\n",
            "User: How many people were in the office yesterday?\n",
            "SELECT count(*) FROM attendance WHERE date = date('now', '-1 day');\n",
            "([(110,)], 1)\n",
            "\n",
            "User: Show me the attendance for '2025-07-18\n",
            "SELECT id, name, date FROM attendance WHERE date = '2025-07-18';\n",
            "([], 0)\n",
            "\n",
            "User: Show me the attendance for '2025-07-20\n",
            "SELECT name FROM attendance WHERE date = '2025-07-20'\n",
            "([('person_1',), ('person_2',), ('person_3',), ('person_4',), ('person_5',), ('person_6',), ('person_7',), ('person_8',), ('person_9',), ('person_10',), ('person_11',), ('person_12',), ('person_13',), ('person_14',), ('person_15',), ('person_16',), ('person_17',), ('person_18',), ('person_19',), ('person_20',), ('person_21',), ('person_22',), ('person_23',), ('person_24',), ('person_25',), ('person_26',), ('person_27',), ('person_28',), ('person_29',), ('person_30',), ('person_31',), ('person_32',), ('person_33',), ('person_34',), ('person_35',), ('person_36',), ('person_37',), ('person_38',), ('person_39',), ('person_40',), ('person_41',), ('person_42',), ('person_43',), ('person_44',), ('person_45',), ('person_46',), ('person_47',), ('person_48',), ('person_49',), ('person_50',), ('person_51',), ('person_52',), ('person_53',), ('person_54',), ('person_55',), ('person_56',), ('person_57',), ('person_58',), ('person_59',), ('person_60',), ('person_61',), ('person_62',), ('person_63',), ('person_64',), ('person_65',), ('person_66',), ('person_67',), ('person_68',), ('person_69',), ('person_70',), ('person_71',), ('person_72',), ('person_73',), ('person_74',), ('person_75',), ('person_76',), ('person_77',), ('person_78',), ('person_79',), ('person_80',), ('person_81',), ('person_82',), ('person_83',), ('person_84',), ('person_85',), ('person_86',), ('person_87',), ('person_88',), ('person_89',), ('person_90',), ('person_91',), ('person_92',), ('person_93',), ('person_94',), ('person_95',), ('person_96',), ('person_97',), ('person_98',), ('person_99',), ('person_100',), ('person_101',), ('person_102',), ('person_103',), ('person_104',), ('person_105',), ('person_106',), ('person_107',), ('person_108',), ('person_109',), ('person_110',), ('person_111',), ('person_112',), ('person_113',), ('person_114',), ('person_115',), ('person_116',), ('person_117',), ('person_118',), ('person_119',), ('person_120',)], 120)\n",
            "\n",
            "User: Tell me about those employees who present yesterday but not today\n",
            "SELECT name FROM attendance WHERE date = DATE('now', '-1 day')\n",
            "EXCEPT\n",
            "SELECT name FROM attendance WHERE date = DATE('now');\n",
            "([('person_101',), ('person_102',), ('person_103',), ('person_104',), ('person_105',), ('person_106',), ('person_107',), ('person_108',), ('person_109',), ('person_110',)], 10)\n",
            "\n",
            "User: Attendance report of person_101\n",
            "SELECT * FROM attendance WHERE name = 'person_101';\n",
            "([(201, 'person_101', '2025-07-21'), (311, 'person_101', '2025-07-20')], 2)\n",
            "\n",
            "User: Tell me something else\n",
            "The user query \"Tell me something else\" is too vague to generate a specific SQL query from the 'attendance' table. Please provide a more specific request.\n",
            "\n",
            "Here are some examples of what you could ask:\n",
            "*   \"How many people were present today?\"\n",
            "*   \"Who was in the office on 2023-10-26?\"\n",
            "*   \"Was John Doe present last Monday?\"\n",
            "*   \"List everyone who was present last week.\"\n",
            "*   \"Show me all of Mary's attendance records.\"\n",
            "*   \"Who was present on 2023-10-25 but not on 2023-10-26?\"\n",
            "Bot: An error occured while generating SQL query with GEMINI: near \"The\": syntax error\n",
            "None\n",
            "\n"
          ]
        }
      ]
    },
    {
      "cell_type": "code",
      "source": [
        "def chatbot_query_handler(user_query):\n",
        "  conn = sqlite3.connect('office_data.db')\n",
        "  cursor = conn.cursor()\n",
        "\n",
        "  #prompt for gemini to generate SQL query\n",
        "  prompt = f\"\"\"\n",
        "  Based on the following user query, Generate a SQLite SQL query to reterive information from the 'attendance' table.\n",
        "  The 'attendance' table has columns 'id' (integer), 'name' (text), 'date' (text).\n",
        "  The date format in the table is 'YYYY-MM-DD'.\n",
        "  For example, If the user asks 'How many people were in the office yesterday?', the SQL query should be:\n",
        "  SELECT count(*) from attendance where date = 'YYYY-MM-DD_for_yesterday'\n",
        "  Replace 'YYYY-MM-DD_for_yesterday' with the actual date for yesterday.\n",
        "  If the user asks for employees present on one day but not another, use a query with EXCEPT.\n",
        "  If the user asks for attendance of a specific person, filter by name.\n",
        "  You need to generate appropriate prompt based on user query that can be provide the result user is expecting from the 'attendance' table.\n",
        "\n",
        "  User query : {user_query}\n",
        "  \"\"\"\n",
        "\n",
        "  try:\n",
        "    response = gemini_model.generate_content(prompt)\n",
        "    generate_sql = response.text.replace(\"sqlite\",\"\").strip()\n",
        "    generate_sql = generate_sql.replace(\"```\",\"\").strip()\n",
        "    print(generate_sql)\n",
        "\n",
        "    cursor.execute(generate_sql)\n",
        "    result = cursor.fetchall()\n",
        "\n",
        "    if len(result) == 0:\n",
        "      return \"No Information\"\n",
        "    elif len(result) > 1:\n",
        "      return result\n",
        "    else:\n",
        "      return result[0]\n",
        "\n",
        "    conn.close()\n",
        "  except Exception as e:\n",
        "    conn.close()\n",
        "    print(f\"Bot: An error occured while generating SQL query with GEMINI: {e}\")\n"
      ],
      "metadata": {
        "id": "kOOCHBVomZcb"
      },
      "execution_count": null,
      "outputs": []
    },
    {
      "cell_type": "code",
      "source": [
        "#Test the querries-\n",
        "queries = [\n",
        "    \"How many people were in the office today?\",\n",
        "    \"How many people were in the office on 2025-07-19?\",\n",
        "    \"How many people were in the office yesterday?\",\n",
        "    \"Show me the attendance for '2025-07-18\",\n",
        "    \"Show me the attendance for '2025-07-20\",\n",
        "    \"Tell me about those employees who present yesterday but not today\",\n",
        "    \"Attendance report of person_101\",\n",
        "    \"Tell me something else\"\n",
        "]\n",
        "\n",
        "for query in queries:\n",
        "  print(f\"User: {query}\")\n",
        "  response = chatbot_query_handler(query)\n",
        "  print(f\"{response}\")\n",
        "  print()"
      ],
      "metadata": {
        "colab": {
          "base_uri": "https://localhost:8080/",
          "height": 742
        },
        "id": "ShPzWLEkq3Eh",
        "outputId": "7f5dd18e-e72c-4e46-ff4b-a90bd6049b8a"
      },
      "execution_count": null,
      "outputs": [
        {
          "output_type": "stream",
          "name": "stdout",
          "text": [
            "User: How many people were in the office today?\n",
            "SELECT count(*) FROM attendance WHERE date = date('now');\n",
            "(100,)\n",
            "\n",
            "User: How many people were in the office on 2025-07-19?\n",
            "SELECT count(*) FROM attendance WHERE date = '2025-07-19';\n",
            "(0,)\n",
            "\n",
            "User: How many people were in the office yesterday?\n",
            "SELECT count(*) FROM attendance WHERE date = date('now', '-1 day');\n",
            "(110,)\n",
            "\n",
            "User: Show me the attendance for '2025-07-18\n",
            "SELECT * FROM attendance WHERE date = '2025-07-18';\n",
            "No Information\n",
            "\n",
            "User: Show me the attendance for '2025-07-20\n",
            "SELECT name FROM attendance WHERE date = '2025-07-20';\n",
            "[('person_1',), ('person_2',), ('person_3',), ('person_4',), ('person_5',), ('person_6',), ('person_7',), ('person_8',), ('person_9',), ('person_10',), ('person_11',), ('person_12',), ('person_13',), ('person_14',), ('person_15',), ('person_16',), ('person_17',), ('person_18',), ('person_19',), ('person_20',), ('person_21',), ('person_22',), ('person_23',), ('person_24',), ('person_25',), ('person_26',), ('person_27',), ('person_28',), ('person_29',), ('person_30',), ('person_31',), ('person_32',), ('person_33',), ('person_34',), ('person_35',), ('person_36',), ('person_37',), ('person_38',), ('person_39',), ('person_40',), ('person_41',), ('person_42',), ('person_43',), ('person_44',), ('person_45',), ('person_46',), ('person_47',), ('person_48',), ('person_49',), ('person_50',), ('person_51',), ('person_52',), ('person_53',), ('person_54',), ('person_55',), ('person_56',), ('person_57',), ('person_58',), ('person_59',), ('person_60',), ('person_61',), ('person_62',), ('person_63',), ('person_64',), ('person_65',), ('person_66',), ('person_67',), ('person_68',), ('person_69',), ('person_70',), ('person_71',), ('person_72',), ('person_73',), ('person_74',), ('person_75',), ('person_76',), ('person_77',), ('person_78',), ('person_79',), ('person_80',), ('person_81',), ('person_82',), ('person_83',), ('person_84',), ('person_85',), ('person_86',), ('person_87',), ('person_88',), ('person_89',), ('person_90',), ('person_91',), ('person_92',), ('person_93',), ('person_94',), ('person_95',), ('person_96',), ('person_97',), ('person_98',), ('person_99',), ('person_100',), ('person_101',), ('person_102',), ('person_103',), ('person_104',), ('person_105',), ('person_106',), ('person_107',), ('person_108',), ('person_109',), ('person_110',), ('person_111',), ('person_112',), ('person_113',), ('person_114',), ('person_115',), ('person_116',), ('person_117',), ('person_118',), ('person_119',), ('person_120',)]\n",
            "\n",
            "User: Tell me about those employees who present yesterday but not today\n",
            "SELECT name FROM attendance WHERE date = date('now', '-1 day')\n",
            "EXCEPT\n",
            "SELECT name FROM attendance WHERE date = date('now');\n",
            "[('person_101',), ('person_102',), ('person_103',), ('person_104',), ('person_105',), ('person_106',), ('person_107',), ('person_108',), ('person_109',), ('person_110',)]\n",
            "\n",
            "User: Attendance report of person_101\n",
            "SELECT * FROM attendance WHERE name = 'person_101'\n",
            "[(201, 'person_101', '2025-07-21'), (311, 'person_101', '2025-07-20')]\n",
            "\n",
            "User: Tell me something else\n",
            "Please provide a more specific query related to the 'attendance' table. For example, you can ask:\n",
            "\n",
            "*   \"How many people were present today?\"\n",
            "*   \"Who was present on 2023-10-26?\"\n",
            "*   \"What is the attendance record for John Doe?\"\n",
            "*   \"Show me the names of people who were present yesterday but not today.\"\n",
            "Bot: An error occured while generating SQL query with GEMINI: near \"Please\": syntax error\n",
            "None\n",
            "\n"
          ]
        }
      ]
    },
    {
      "cell_type": "code",
      "source": [],
      "metadata": {
        "id": "tGF9nLiXq5PS"
      },
      "execution_count": null,
      "outputs": []
    }
  ]
}