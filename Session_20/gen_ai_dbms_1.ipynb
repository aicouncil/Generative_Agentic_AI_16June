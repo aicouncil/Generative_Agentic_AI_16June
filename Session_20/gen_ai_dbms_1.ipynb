{
  "nbformat": 4,
  "nbformat_minor": 0,
  "metadata": {
    "colab": {
      "provenance": []
    },
    "kernelspec": {
      "name": "python3",
      "display_name": "Python 3"
    },
    "language_info": {
      "name": "python"
    }
  },
  "cells": [
    {
      "cell_type": "code",
      "execution_count": null,
      "metadata": {
        "id": "YM-YbIU5U3_e"
      },
      "outputs": [],
      "source": [
        "import sqlite3\n",
        "from datetime import datetime, timedelta"
      ]
    },
    {
      "cell_type": "code",
      "source": [
        "#connect to local sqlite database (create if it is not existing)\n",
        "conn = sqlite3.connect('office_data.db')\n",
        "cursor = conn.cursor()"
      ],
      "metadata": {
        "id": "FhUufeS3VSYw"
      },
      "execution_count": null,
      "outputs": []
    },
    {
      "cell_type": "code",
      "source": [
        "#Create an attendance table\n",
        "cursor.execute(\"\"\"\n",
        "create table if not exists attendance(\n",
        "  id integer primary key autoincrement,\n",
        "  name text,\n",
        "  date text\n",
        ")\n",
        "\"\"\")"
      ],
      "metadata": {
        "colab": {
          "base_uri": "https://localhost:8080/"
        },
        "id": "Vgi6j_tyVfM1",
        "outputId": "18e92dc6-fa97-4ecb-9cf8-63c61a56806e"
      },
      "execution_count": null,
      "outputs": [
        {
          "output_type": "execute_result",
          "data": {
            "text/plain": [
              "<sqlite3.Cursor at 0x7a929eed2bc0>"
            ]
          },
          "metadata": {},
          "execution_count": 5
        }
      ]
    },
    {
      "cell_type": "code",
      "source": [
        "#Insert some sample data\n",
        "\n",
        "today = datetime.now()\n",
        "\n",
        "for i in range(3):\n",
        "  day = today - timedelta(days=i)\n",
        "  for j in range(100 + i * 10):\n",
        "    cursor.execute(\"insert into attendance(name,date) values (?,?)\", (f\"person_{j+1}\" , day.strftime(\"%Y-%m-%d\")))\n",
        "\n",
        "conn.commit()\n",
        "conn.close()"
      ],
      "metadata": {
        "id": "KUUFzte6WUfg"
      },
      "execution_count": null,
      "outputs": []
    },
    {
      "cell_type": "code",
      "source": [
        "conn = sqlite3.connect('office_data.db')\n",
        "cursor = conn.cursor()\n",
        "\n",
        "cursor.execute(\"select * from attendance limit 5\")\n",
        "rows = cursor.fetchall()\n",
        "for row in rows:\n",
        "  print(row)\n",
        "\n",
        "conn.commit()\n",
        "conn.close()"
      ],
      "metadata": {
        "colab": {
          "base_uri": "https://localhost:8080/"
        },
        "id": "sdCTerB_Xp3p",
        "outputId": "bb1cef99-8d2f-4832-ab77-6bb900103d3a"
      },
      "execution_count": null,
      "outputs": [
        {
          "output_type": "stream",
          "name": "stdout",
          "text": [
            "(1, 'person_1', '2025-07-21')\n",
            "(2, 'person_2', '2025-07-21')\n",
            "(3, 'person_3', '2025-07-21')\n",
            "(4, 'person_4', '2025-07-21')\n",
            "(5, 'person_5', '2025-07-21')\n"
          ]
        }
      ]
    },
    {
      "cell_type": "code",
      "source": [
        "def get_attendance_count(date_str):\n",
        "  conn = sqlite3.connect('office_data.db')\n",
        "  cursor = conn.cursor()\n",
        "\n",
        "  cursor.execute(\"select count(*) from attendance where date = ?\", (date_str,))\n",
        "  count = cursor.fetchone()[0]\n",
        "\n",
        "  conn.commit()\n",
        "  conn.close()\n",
        "\n",
        "  return count"
      ],
      "metadata": {
        "id": "aaZR74C_X7O7"
      },
      "execution_count": null,
      "outputs": []
    },
    {
      "cell_type": "code",
      "source": [
        "get_attendance_count('2025-07-20')"
      ],
      "metadata": {
        "colab": {
          "base_uri": "https://localhost:8080/"
        },
        "id": "sz0rpc6eYS9l",
        "outputId": "7121e0a8-d95e-4013-c314-b56f8795418f"
      },
      "execution_count": null,
      "outputs": [
        {
          "output_type": "execute_result",
          "data": {
            "text/plain": [
              "110"
            ]
          },
          "metadata": {},
          "execution_count": 16
        }
      ]
    },
    {
      "cell_type": "markdown",
      "source": [
        "**Using Natural languages**"
      ],
      "metadata": {
        "id": "dNXn6QqcZBrO"
      }
    },
    {
      "cell_type": "code",
      "source": [
        "def handle_query(user_query):\n",
        "  if 'yesterday' in user_query.lower():\n",
        "    date = (datetime.now() - timedelta(days=1)).strftime(\"%Y-%m-%d\")\n",
        "    count = get_attendance_count(date)\n",
        "    return f\"Bot: Yesterday, {count} people were in the office\"\n",
        "  else:\n",
        "    return \"Bot: Sorry, I can only answer about yesterday attendance right now\""
      ],
      "metadata": {
        "id": "Xal3xkVXY4ub"
      },
      "execution_count": null,
      "outputs": []
    },
    {
      "cell_type": "code",
      "source": [
        "user_query = \"How many people were in the office yesterday?\"\n",
        "response = handle_query(user_query)\n",
        "print(response)"
      ],
      "metadata": {
        "colab": {
          "base_uri": "https://localhost:8080/"
        },
        "id": "G1Cxp7nwZP8Z",
        "outputId": "193aed1a-f9d0-4346-c7cf-6ba5756b9c24"
      },
      "execution_count": null,
      "outputs": [
        {
          "output_type": "stream",
          "name": "stdout",
          "text": [
            "Bot: Yesterday, 110 people were in the office\n"
          ]
        }
      ]
    },
    {
      "cell_type": "markdown",
      "source": [
        "**Bot that can answer attendance for any day**"
      ],
      "metadata": {
        "id": "1O3oW-TEcMLO"
      }
    },
    {
      "cell_type": "code",
      "source": [
        "import re\n",
        "re.search(r\"\\d{4}-\\d{2}-\\d{2}\" , \"How many people were in the office on 2025-07-19\")"
      ],
      "metadata": {
        "colab": {
          "base_uri": "https://localhost:8080/"
        },
        "id": "zDqNhViheG10",
        "outputId": "37979cee-9e88-40a5-f5d4-e8fc43097eac"
      },
      "execution_count": null,
      "outputs": [
        {
          "output_type": "execute_result",
          "data": {
            "text/plain": [
              "<re.Match object; span=(38, 48), match='2025-07-19'>"
            ]
          },
          "metadata": {},
          "execution_count": 44
        }
      ]
    },
    {
      "cell_type": "code",
      "source": [
        "re.search(r\"\\d{4}-\\d{2}-\\d{2}\" , \"How many people were in the office on 2025-07-19\").group()"
      ],
      "metadata": {
        "colab": {
          "base_uri": "https://localhost:8080/",
          "height": 35
        },
        "id": "fjysOYERfbAS",
        "outputId": "b5d784c8-80d8-42b5-fb1e-618c0759187a"
      },
      "execution_count": null,
      "outputs": [
        {
          "output_type": "execute_result",
          "data": {
            "text/plain": [
              "'2025-07-19'"
            ],
            "application/vnd.google.colaboratory.intrinsic+json": {
              "type": "string"
            }
          },
          "metadata": {},
          "execution_count": 50
        }
      ]
    },
    {
      "cell_type": "code",
      "source": [
        "#Function to extract the date from query\n",
        "def extract_date_from_query(user_query):\n",
        "  today = datetime.now().date()\n",
        "  if \"today\" in user_query.lower():\n",
        "    return today.strftime(\"%Y-%m-%d\")\n",
        "  elif \"yesterday\" in user_query.lower():\n",
        "    yesterday = today - timedelta(days=1)\n",
        "    return yesterday.strftime(\"%Y-%m-%d\")\n",
        "  else:\n",
        "    #match the given date\n",
        "    date_match = re.search(r\"\\d{4}-\\d{2}-\\d{2}\" , user_query)\n",
        "    if date_match:\n",
        "      return date_match.group(0)\n",
        "    return None"
      ],
      "metadata": {
        "id": "YJuwgNM3Zs5k"
      },
      "execution_count": null,
      "outputs": []
    },
    {
      "cell_type": "code",
      "source": [
        "datetime.now().date()"
      ],
      "metadata": {
        "colab": {
          "base_uri": "https://localhost:8080/"
        },
        "id": "VPs-scMNdJt2",
        "outputId": "48d3ad55-b2a9-4390-ee27-9d76cc68ee1c"
      },
      "execution_count": null,
      "outputs": [
        {
          "output_type": "execute_result",
          "data": {
            "text/plain": [
              "datetime.date(2025, 7, 21)"
            ]
          },
          "metadata": {},
          "execution_count": 36
        }
      ]
    },
    {
      "cell_type": "code",
      "source": [
        "extract_date_from_query('How many people were in the office on 2025-07-19')"
      ],
      "metadata": {
        "colab": {
          "base_uri": "https://localhost:8080/",
          "height": 35
        },
        "id": "7Gg8ABG5cpsQ",
        "outputId": "8e4bf68d-6789-49bc-cfe8-bfe66dde3b33"
      },
      "execution_count": null,
      "outputs": [
        {
          "output_type": "execute_result",
          "data": {
            "text/plain": [
              "'2025-07-19'"
            ],
            "application/vnd.google.colaboratory.intrinsic+json": {
              "type": "string"
            }
          },
          "metadata": {},
          "execution_count": 52
        }
      ]
    },
    {
      "cell_type": "code",
      "source": [
        "#Chatbot query handler\n",
        "def chatbot_query_handler(user_query):\n",
        "  conn = sqlite3.connect('office_data.db')\n",
        "  cursor = conn.cursor()\n",
        "\n",
        "  target_date = extract_date_from_query(user_query)\n",
        "  if not target_date:\n",
        "    return \"\"\"Bot: Sorry I couldn't find the date in your querry.\n",
        "    Please try again using a valid date or words like 'today' or 'yesterday'\"\"\"\n",
        "\n",
        "  cursor.execute(\"select count(*) from attendance where date = ?\", (target_date,))\n",
        "  count = cursor.fetchone()[0]\n",
        "\n",
        "  conn.commit()\n",
        "  conn.close()\n",
        "\n",
        "  if not count:\n",
        "    return f\"Bot: No attendance record found for {target_date}\"\n",
        "  else:\n",
        "    return f\"Bot: on {target_date}, {count} people were in the office\""
      ],
      "metadata": {
        "id": "-uRpYxewc1Hb"
      },
      "execution_count": null,
      "outputs": []
    },
    {
      "cell_type": "code",
      "source": [
        "querries = [\n",
        "    \"How many people were in the office today?\",\n",
        "    \"How many people were in the office on 2025-07-19?\",\n",
        "    \"How many people were in the office yesterday?\",\n",
        "    \"Show me the attendance for 2025-07-18\",\n",
        "    \"Show me the attendance for 2025-07-20\",\n",
        "    \"What is attendance?\"\n",
        "]\n",
        "\n",
        "for query in querries:\n",
        "  print(f\"User: {query}\")\n",
        "  response = chatbot_query_handler(query)\n",
        "  print(f\"{response}\")\n",
        "  print()"
      ],
      "metadata": {
        "colab": {
          "base_uri": "https://localhost:8080/"
        },
        "id": "hWDq8DG9f7bm",
        "outputId": "afdf4cef-1035-4cb9-a239-a5823206264d"
      },
      "execution_count": null,
      "outputs": [
        {
          "output_type": "stream",
          "name": "stdout",
          "text": [
            "User: How many people were in the office today?\n",
            "Bot: on 2025-07-21, 100 people were in the office\n",
            "\n",
            "User: How many people were in the office on 2025-07-19?\n",
            "Bot: on 2025-07-19, 120 people were in the office\n",
            "\n",
            "User: How many people were in the office yesterday?\n",
            "Bot: on 2025-07-20, 110 people were in the office\n",
            "\n",
            "User: Show me the attendance for 2025-07-18\n",
            "Bot: No attendance record found for 2025-07-18\n",
            "\n",
            "User: Show me the attendance for 2025-07-20\n",
            "Bot: on 2025-07-20, 110 people were in the office\n",
            "\n",
            "User: What is attendance?\n",
            "Bot: Sorry I couldn't find the date in your querry. \n",
            "    Please try again using a valid date or words like 'today' or 'yesterday'\n",
            "\n"
          ]
        }
      ]
    },
    {
      "cell_type": "code",
      "source": [
        "user_input = input(\"What do you want to know? \")\n",
        "\n",
        "response = chatbot_query_handler(user_input)\n",
        "print(f\"{response}\")"
      ],
      "metadata": {
        "colab": {
          "base_uri": "https://localhost:8080/"
        },
        "id": "Lqy5BQ4ggg2u",
        "outputId": "cba73f8f-d6c8-4590-bc76-12a6b8214906"
      },
      "execution_count": null,
      "outputs": [
        {
          "output_type": "stream",
          "name": "stdout",
          "text": [
            "What do you want to know? attendance cout of 2025-07-20\n",
            "Bot: on 2025-07-20, 110 people were in the office\n"
          ]
        }
      ]
    },
    {
      "cell_type": "code",
      "source": [
        "queries = [\"Tell me about those employee who present yesterday but not today\",\n",
        "           \"Difference in attendance count of last 3 days\"]"
      ],
      "metadata": {
        "id": "4kkhEOe8i581"
      },
      "execution_count": null,
      "outputs": []
    }
  ]
}