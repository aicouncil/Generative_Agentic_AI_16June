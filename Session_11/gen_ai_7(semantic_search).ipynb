{
  "nbformat": 4,
  "nbformat_minor": 0,
  "metadata": {
    "colab": {
      "provenance": []
    },
    "kernelspec": {
      "name": "python3",
      "display_name": "Python 3"
    },
    "language_info": {
      "name": "python"
    }
  },
  "cells": [
    {
      "cell_type": "code",
      "execution_count": null,
      "metadata": {
        "colab": {
          "base_uri": "https://localhost:8080/"
        },
        "id": "w_VpW6gpzNyk",
        "outputId": "162238ff-e0b6-4c76-9b5f-4b4fee3d665f"
      },
      "outputs": [
        {
          "output_type": "stream",
          "name": "stdout",
          "text": [
            "\u001b[2K   \u001b[90m━━━━━━━━━━━━━━━━━━━━━━━━━━━━━━━━━━━━━━━━\u001b[0m \u001b[32m363.4/363.4 MB\u001b[0m \u001b[31m4.4 MB/s\u001b[0m eta \u001b[36m0:00:00\u001b[0m\n",
            "\u001b[2K   \u001b[90m━━━━━━━━━━━━━━━━━━━━━━━━━━━━━━━━━━━━━━━━\u001b[0m \u001b[32m13.8/13.8 MB\u001b[0m \u001b[31m91.3 MB/s\u001b[0m eta \u001b[36m0:00:00\u001b[0m\n",
            "\u001b[2K   \u001b[90m━━━━━━━━━━━━━━━━━━━━━━━━━━━━━━━━━━━━━━━━\u001b[0m \u001b[32m24.6/24.6 MB\u001b[0m \u001b[31m70.0 MB/s\u001b[0m eta \u001b[36m0:00:00\u001b[0m\n",
            "\u001b[2K   \u001b[90m━━━━━━━━━━━━━━━━━━━━━━━━━━━━━━━━━━━━━━━━\u001b[0m \u001b[32m883.7/883.7 kB\u001b[0m \u001b[31m42.5 MB/s\u001b[0m eta \u001b[36m0:00:00\u001b[0m\n",
            "\u001b[2K   \u001b[90m━━━━━━━━━━━━━━━━━━━━━━━━━━━━━━━━━━━━━━━━\u001b[0m \u001b[32m664.8/664.8 MB\u001b[0m \u001b[31m2.0 MB/s\u001b[0m eta \u001b[36m0:00:00\u001b[0m\n",
            "\u001b[2K   \u001b[90m━━━━━━━━━━━━━━━━━━━━━━━━━━━━━━━━━━━━━━━━\u001b[0m \u001b[32m211.5/211.5 MB\u001b[0m \u001b[31m5.9 MB/s\u001b[0m eta \u001b[36m0:00:00\u001b[0m\n",
            "\u001b[2K   \u001b[90m━━━━━━━━━━━━━━━━━━━━━━━━━━━━━━━━━━━━━━━━\u001b[0m \u001b[32m56.3/56.3 MB\u001b[0m \u001b[31m10.6 MB/s\u001b[0m eta \u001b[36m0:00:00\u001b[0m\n",
            "\u001b[2K   \u001b[90m━━━━━━━━━━━━━━━━━━━━━━━━━━━━━━━━━━━━━━━━\u001b[0m \u001b[32m127.9/127.9 MB\u001b[0m \u001b[31m7.8 MB/s\u001b[0m eta \u001b[36m0:00:00\u001b[0m\n",
            "\u001b[2K   \u001b[90m━━━━━━━━━━━━━━━━━━━━━━━━━━━━━━━━━━━━━━━━\u001b[0m \u001b[32m207.5/207.5 MB\u001b[0m \u001b[31m4.1 MB/s\u001b[0m eta \u001b[36m0:00:00\u001b[0m\n",
            "\u001b[2K   \u001b[90m━━━━━━━━━━━━━━━━━━━━━━━━━━━━━━━━━━━━━━━━\u001b[0m \u001b[32m21.1/21.1 MB\u001b[0m \u001b[31m80.5 MB/s\u001b[0m eta \u001b[36m0:00:00\u001b[0m\n",
            "\u001b[?25h"
          ]
        }
      ],
      "source": [
        "#install dependecies\n",
        "!pip install -q sentence-transformers"
      ]
    },
    {
      "cell_type": "code",
      "source": [
        "!pip install PyPDF2"
      ],
      "metadata": {
        "colab": {
          "base_uri": "https://localhost:8080/"
        },
        "id": "qTyrP5-j1cFy",
        "outputId": "01e9c4a1-7046-406c-8f91-12df91848018"
      },
      "execution_count": null,
      "outputs": [
        {
          "output_type": "stream",
          "name": "stdout",
          "text": [
            "Collecting PyPDF2\n",
            "  Downloading pypdf2-3.0.1-py3-none-any.whl.metadata (6.8 kB)\n",
            "Downloading pypdf2-3.0.1-py3-none-any.whl (232 kB)\n",
            "\u001b[?25l   \u001b[90m━━━━━━━━━━━━━━━━━━━━━━━━━━━━━━━━━━━━━━━━\u001b[0m \u001b[32m0.0/232.6 kB\u001b[0m \u001b[31m?\u001b[0m eta \u001b[36m-:--:--\u001b[0m\r\u001b[2K   \u001b[91m━━━━━━━━━━━━━━━━━━━\u001b[0m\u001b[90m╺\u001b[0m\u001b[90m━━━━━━━━━━━━━━━━━━━━\u001b[0m \u001b[32m112.6/232.6 kB\u001b[0m \u001b[31m3.3 MB/s\u001b[0m eta \u001b[36m0:00:01\u001b[0m\r\u001b[2K   \u001b[90m━━━━━━━━━━━━━━━━━━━━━━━━━━━━━━━━━━━━━━━━\u001b[0m \u001b[32m232.6/232.6 kB\u001b[0m \u001b[31m3.5 MB/s\u001b[0m eta \u001b[36m0:00:00\u001b[0m\n",
            "\u001b[?25hInstalling collected packages: PyPDF2\n",
            "Successfully installed PyPDF2-3.0.1\n"
          ]
        }
      ]
    },
    {
      "cell_type": "code",
      "source": [
        "import PyPDF2\n",
        "\n",
        "def extract_data_from_pdf(pdf_path):\n",
        "  with open(pdf_path , 'rb') as file:\n",
        "    pdfreader = PyPDF2.PdfReader(file)\n",
        "    full_text = ''\n",
        "    for page in pdfreader.pages:\n",
        "      full_text += page.extract_text()\n",
        "  return full_text"
      ],
      "metadata": {
        "id": "fR63G-ZQ1HCY"
      },
      "execution_count": null,
      "outputs": []
    },
    {
      "cell_type": "code",
      "source": [
        "extracted_text = extract_data_from_pdf('/content/company_manual.pdf')\n",
        "print(extracted_text)"
      ],
      "metadata": {
        "colab": {
          "base_uri": "https://localhost:8080/"
        },
        "id": "-C43dTrH1m6i",
        "outputId": "e9c83f98-dd01-4d75-91ba-e05401b03fbb"
      },
      "execution_count": null,
      "outputs": [
        {
          "output_type": "stream",
          "name": "stdout",
          "text": [
            "Company Manual - TechNova Solutions Pvt. Ltd.\n",
            "About the Company\n",
            "TechNova Solutions Pvt. Ltd. is a global leader in consumer electronics, committed to delivering\n",
            "innovative technology and excellent customer service. \n",
            "Founded in 2005, TechNova has grown to serve over 20 million customers across 35 countries. We\n",
            "specialize in smart devices, home automation, and sustainable technology solutions.\n",
            "Our mission is to make everyday life smarter, simpler, and more connected. We believe in constant\n",
            "innovation, environmental responsibility, and customer satisfaction above all else.\n",
            "Our headquarters are located in Bengaluru, India, with major regional offices in Singapore,\n",
            "Germany, and the United States.\n",
            "Return Policy\n",
            "We offer a 30-day return policy on all our products purchased directly through our website or\n",
            "authorized outlets.\n",
            "To be eligible for a return, the product must be unused, in its original packaging, and accompanied\n",
            "by the original invoice. Refunds are initiated after we receive and inspect the returned item.\n",
            "Returns are not accepted for customized products, opened software, or items marked 'final sale.'\n",
            "For international orders, return shipping costs are borne by the customer unless the product is found\n",
            "defective upon arrival.\n",
            "Please initiate your return through our online portal or by contacting our support team within 30 days\n",
            "of delivery.\n",
            "Warranty\n",
            "All TechNova products come with a one-year limited warranty from the date of purchase.\n",
            "This warranty covers manufacturing defects and issues arising from normal usage. It does not cover\n",
            "physical damage, unauthorized repairs, or damages due to improper handling.\n",
            "Customers can extend their warranty coverage up to 3 years by subscribing to our Extended\n",
            "Protection Plan.\n",
            "To make a warranty claim, users must register the product on our website within 15 days of\n",
            "purchase and provide a valid proof of purchase during the claim process.Company Manual - TechNova Solutions Pvt. Ltd.\n",
            "Warranty services include repair, replacement, or refund at the company's discretion.\n",
            "Customer Service\n",
            "Our award-winning customer support is available 24/7 to assist you with any queries or concerns.\n",
            "Support Channels:\n",
            "- Phone: +91-9999999999 (Mon-Fri, 9 AM to 6 PM IST)\n",
            "- Email: support@technova.com (Response time: within 24 hours)\n",
            "- Live Chat: Available on our website and mobile app\n",
            "- Help Center: https://support.technova.com\n",
            "We also provide video call support and remote diagnostics for troubleshooting smart home devices.\n",
            "Your satisfaction is our priority. We aim to resolve most customer queries within 48 hours.\n",
            "Environmental Commitment\n",
            "At TechNova, sustainability is a core part of our business. We are committed to reducing electronic\n",
            "waste and promoting green technologies.\n",
            "We use 100% recyclable packaging, and our facilities are powered by renewable energy.\n",
            "Our 'Recycle & Upgrade' program allows customers to exchange their old TechNova devices for\n",
            "credits toward new purchases, ensuring responsible disposal and reuse.\n",
            "We also plant one tree for every product sold, in partnership with global reforestation organizations.\n",
            "TechNova has received multiple green certifications, including ISO 14001 and Energy Star Partner\n",
            "of the Year awards.\n"
          ]
        }
      ]
    },
    {
      "cell_type": "code",
      "source": [
        "import re\n",
        "\n",
        "def clean_text(text):\n",
        "  #remove extra spaces\n",
        "  text = re.sub(r'\\s+' , ' ' , text)\n",
        "  #remove non-ascii characters (if any)\n",
        "  text = re.sub(r'[^\\x00-\\x7F]+' , '', text)\n",
        "  return text\n",
        "\n",
        "cleaned_text = clean_text(extracted_text)\n",
        "print(cleaned_text)"
      ],
      "metadata": {
        "colab": {
          "base_uri": "https://localhost:8080/"
        },
        "id": "iiYJICaH1vOF",
        "outputId": "c713ab7f-22a5-49a7-d5ff-bad9b3d41dc1"
      },
      "execution_count": null,
      "outputs": [
        {
          "output_type": "stream",
          "name": "stdout",
          "text": [
            "Company Manual - TechNova Solutions Pvt. Ltd. About the Company TechNova Solutions Pvt. Ltd. is a global leader in consumer electronics, committed to delivering innovative technology and excellent customer service. Founded in 2005, TechNova has grown to serve over 20 million customers across 35 countries. We specialize in smart devices, home automation, and sustainable technology solutions. Our mission is to make everyday life smarter, simpler, and more connected. We believe in constant innovation, environmental responsibility, and customer satisfaction above all else. Our headquarters are located in Bengaluru, India, with major regional offices in Singapore, Germany, and the United States. Return Policy We offer a 30-day return policy on all our products purchased directly through our website or authorized outlets. To be eligible for a return, the product must be unused, in its original packaging, and accompanied by the original invoice. Refunds are initiated after we receive and inspect the returned item. Returns are not accepted for customized products, opened software, or items marked 'final sale.' For international orders, return shipping costs are borne by the customer unless the product is found defective upon arrival. Please initiate your return through our online portal or by contacting our support team within 30 days of delivery. Warranty All TechNova products come with a one-year limited warranty from the date of purchase. This warranty covers manufacturing defects and issues arising from normal usage. It does not cover physical damage, unauthorized repairs, or damages due to improper handling. Customers can extend their warranty coverage up to 3 years by subscribing to our Extended Protection Plan. To make a warranty claim, users must register the product on our website within 15 days of purchase and provide a valid proof of purchase during the claim process.Company Manual - TechNova Solutions Pvt. Ltd. Warranty services include repair, replacement, or refund at the company's discretion. Customer Service Our award-winning customer support is available 24/7 to assist you with any queries or concerns. Support Channels: - Phone: +91-9999999999 (Mon-Fri, 9 AM to 6 PM IST) - Email: support@technova.com (Response time: within 24 hours) - Live Chat: Available on our website and mobile app - Help Center: https://support.technova.com We also provide video call support and remote diagnostics for troubleshooting smart home devices. Your satisfaction is our priority. We aim to resolve most customer queries within 48 hours. Environmental Commitment At TechNova, sustainability is a core part of our business. We are committed to reducing electronic waste and promoting green technologies. We use 100% recyclable packaging, and our facilities are powered by renewable energy. Our 'Recycle & Upgrade' program allows customers to exchange their old TechNova devices for credits toward new purchases, ensuring responsible disposal and reuse. We also plant one tree for every product sold, in partnership with global reforestation organizations. TechNova has received multiple green certifications, including ISO 14001 and Energy Star Partner of the Year awards.\n"
          ]
        }
      ]
    },
    {
      "cell_type": "code",
      "source": [
        "#Step 2 - Import reuired libraries\n",
        "from sentence_transformers import SentenceTransformer\n",
        "import numpy as np\n",
        "import matplotlib.pyplot as plt"
      ],
      "metadata": {
        "id": "qopqs4JezYq5"
      },
      "execution_count": null,
      "outputs": []
    },
    {
      "cell_type": "code",
      "source": [
        "#Step 3- Load pre-trained model\n",
        "model = SentenceTransformer('paraphrase-MiniLM-L6-v2')"
      ],
      "metadata": {
        "id": "i5nU2CK3zhH0"
      },
      "execution_count": null,
      "outputs": []
    },
    {
      "cell_type": "code",
      "source": [
        "#Step 4 - Define the document sections\n",
        "sections = {\n",
        "    \"About the Company\" : cleaned_text.split('About the Company')[1].split('Return Policy')[0],\n",
        "    \"Return Policy\" : cleaned_text.split('Return Policy')[1].split('Warranty')[0],\n",
        "    \"Warranty\" : cleaned_text.split('Warranty')[1].split('Customer Service')[0],\n",
        "    \"Customer Service\" : cleaned_text.split('Customer Service')[1].split('Environmental Commitment')[0],\n",
        "    \"Environmental Commitment\" : cleaned_text.split('Environmental Commitment')[1]\n",
        "}"
      ],
      "metadata": {
        "id": "M-qym2Rm0B8v"
      },
      "execution_count": null,
      "outputs": []
    },
    {
      "cell_type": "code",
      "source": [
        "#Step 5 -Define our query\n",
        "query = \"How do I send the item back?\""
      ],
      "metadata": {
        "id": "k0yvuaMK16u7"
      },
      "execution_count": null,
      "outputs": []
    },
    {
      "cell_type": "code",
      "source": [
        "#Step 6 - Create embeddings\n",
        "query_embedding = model.encode([query])[0]"
      ],
      "metadata": {
        "id": "qoFjOl8P2FQX"
      },
      "execution_count": null,
      "outputs": []
    },
    {
      "cell_type": "code",
      "source": [
        "print(query_embedding.shape)"
      ],
      "metadata": {
        "colab": {
          "base_uri": "https://localhost:8080/"
        },
        "id": "cqU2tzNj5MPp",
        "outputId": "7dcc810b-3c3a-4090-9fbd-e8b578d5fd18"
      },
      "execution_count": null,
      "outputs": [
        {
          "output_type": "stream",
          "name": "stdout",
          "text": [
            "(384,)\n"
          ]
        }
      ]
    },
    {
      "cell_type": "code",
      "source": [
        "section_embeddings = {}\n",
        "\n",
        "for title,content in sections.items():\n",
        "  #print(model.encode([content])[0])\n",
        "  section_embeddings[title] = model.encode([content])[0]"
      ],
      "metadata": {
        "id": "MBB_X4bL3aTe"
      },
      "execution_count": null,
      "outputs": []
    },
    {
      "cell_type": "code",
      "source": [
        "print(section_embeddings)"
      ],
      "metadata": {
        "colab": {
          "base_uri": "https://localhost:8080/"
        },
        "id": "werZu-f3388q",
        "outputId": "551bf91b-e746-4a06-fd23-6089605396e6"
      },
      "execution_count": null,
      "outputs": [
        {
          "output_type": "stream",
          "name": "stdout",
          "text": [
            "{'About the Company': array([ 2.43429970e-02, -1.14101455e-01,  1.92481831e-01, -4.44419622e-01,\n",
            "       -8.84334184e-03, -2.95841604e-01, -8.91093984e-02,  2.78108418e-01,\n",
            "       -4.83649559e-02,  4.44731086e-01,  2.68115848e-01,  1.66008949e-01,\n",
            "        3.54811668e-01,  1.38919458e-01, -4.83584106e-02, -8.30479339e-02,\n",
            "       -4.64033723e-01, -3.91671926e-01,  1.16601661e-01,  3.37116033e-01,\n",
            "        1.00764837e-02, -3.59553546e-01,  8.83449838e-02, -3.03395361e-01,\n",
            "        9.98509526e-02, -5.35025671e-02,  7.91149363e-02, -1.49658909e-02,\n",
            "        2.55604740e-02, -3.76652330e-01,  8.70147794e-02,  3.16346824e-01,\n",
            "        3.29329371e-01,  9.08905547e-03, -1.91859111e-01,  4.19813275e-01,\n",
            "       -1.04815429e-02, -2.84812868e-01, -4.11184281e-01, -1.62651852e-01,\n",
            "       -2.48285323e-01, -2.86794066e-01,  1.52240535e-02,  5.36542498e-02,\n",
            "        6.44927397e-02, -7.02637136e-02,  1.17790505e-01,  9.96466912e-03,\n",
            "        3.46788168e-02, -1.96640819e-01,  3.81927669e-01, -1.30843055e-02,\n",
            "        4.20281768e-01,  2.10800484e-01,  2.45125875e-01,  4.32288386e-02,\n",
            "        1.26866579e-01,  3.14834923e-01,  9.48369280e-02, -4.62417528e-02,\n",
            "        5.03354549e-01, -3.93174618e-01, -3.45111549e-01, -4.85805720e-02,\n",
            "        3.57315302e-01,  2.59340674e-01,  4.79884058e-01,  8.18315223e-02,\n",
            "       -2.54447371e-01, -1.89009160e-01, -1.36557385e-01, -2.60378331e-01,\n",
            "        2.79639006e-01,  1.59032285e-01,  1.80285394e-01, -7.28897005e-02,\n",
            "        1.28438294e-01,  1.17267311e-01, -2.11878028e-02,  2.85496712e-01,\n",
            "        2.31880799e-01,  1.46046892e-01, -1.06058046e-01, -4.15420622e-01,\n",
            "       -5.14459349e-02,  7.39168795e-03,  4.63200500e-03,  6.86353594e-02,\n",
            "        1.37856036e-01, -7.23404586e-01, -1.27253681e-01,  3.09129626e-01,\n",
            "        3.70609425e-02, -3.95559132e-01,  1.40192151e-01, -3.72190848e-02,\n",
            "       -2.76492953e-01, -2.86594898e-01, -6.14756951e-03,  9.27226990e-02,\n",
            "       -9.46407318e-02,  3.54749262e-01, -4.01336372e-01, -2.82463074e-01,\n",
            "       -3.35093945e-01, -1.14985533e-01,  1.51953503e-01,  4.01582360e-01,\n",
            "        2.79320590e-02,  1.06672242e-01, -2.14788139e-01,  3.26874107e-01,\n",
            "       -4.73367006e-01, -2.52492636e-01,  8.52449536e-02,  1.14462860e-01,\n",
            "       -3.24732065e-01,  1.60845414e-01,  3.87693703e-01, -4.61548477e-01,\n",
            "       -1.08152539e-01, -4.03489947e-01, -4.23182473e-02,  1.42771468e-01,\n",
            "        7.98260421e-02,  4.13078517e-02, -1.83160171e-01,  2.15651825e-01,\n",
            "       -5.82800746e-01,  4.34850633e-01,  2.78348289e-03,  9.36096311e-02,\n",
            "       -6.59056287e-03, -7.58114383e-02,  1.94077373e-01,  2.72298064e-02,\n",
            "       -2.33186677e-01, -1.76389843e-01, -6.86872900e-02,  9.21751931e-02,\n",
            "       -3.83038312e-01,  2.63128906e-01,  3.89476687e-01,  3.22201811e-02,\n",
            "        8.82575065e-02,  4.90415990e-02,  4.58274921e-03, -1.96092486e-01,\n",
            "        1.46453574e-01,  1.21822111e-01,  1.39608562e-01,  7.63185276e-03,\n",
            "        6.34160757e-01,  1.70558333e-01,  3.89178365e-01,  3.74758899e-01,\n",
            "        3.91100943e-01, -2.57284373e-01, -9.82028693e-02, -8.89102370e-02,\n",
            "        6.41042441e-02, -1.30705386e-01,  2.39272848e-01,  2.92530090e-01,\n",
            "       -3.07394445e-01, -1.24326408e-01, -2.83768147e-01, -8.38232040e-02,\n",
            "       -1.45429030e-01, -6.62958845e-02,  1.92863792e-01,  1.31442249e-01,\n",
            "        2.00777188e-01,  5.13587557e-02,  3.39548886e-02, -3.29178274e-01,\n",
            "        4.11399096e-01,  1.65871382e-02, -3.47263634e-01,  3.19176704e-01,\n",
            "       -1.31209105e-01, -1.68277144e-01, -2.75669266e-02,  3.68050858e-02,\n",
            "       -1.05699087e-02,  9.25780926e-03,  7.44963512e-02,  1.44310445e-01,\n",
            "       -1.64556593e-01, -4.28670913e-01, -7.21855044e-01, -1.05118742e-02,\n",
            "        4.88974266e-02, -7.51310363e-02, -8.12025815e-02, -3.67970347e-01,\n",
            "        2.24814847e-01,  4.11951393e-01, -2.35832632e-01, -3.50660160e-02,\n",
            "       -1.62406951e-01,  1.57970726e-01,  1.38889462e-01,  2.26169705e-01,\n",
            "       -1.07010618e-01,  7.15344027e-02,  7.41485730e-02,  2.56749749e-01,\n",
            "       -6.06710970e-01,  2.67855346e-01, -5.79651669e-02,  4.33080047e-02,\n",
            "        2.70050466e-01,  1.38505951e-01, -2.48652562e-01, -5.27114719e-02,\n",
            "       -4.90120977e-01, -2.69785374e-02,  1.04604118e-01,  4.78544444e-01,\n",
            "       -2.05087557e-01,  2.83323586e-01, -1.59202740e-01, -1.06808715e-01,\n",
            "        1.18732974e-02,  8.38464871e-02,  1.08504489e-01,  2.37597495e-01,\n",
            "        2.41613030e-01, -6.87719807e-02, -9.73903239e-02,  2.48429701e-02,\n",
            "       -4.74617556e-02,  1.77316106e-05,  2.86331892e-01,  2.15681911e-01,\n",
            "        5.01610823e-02, -1.63296595e-01, -3.62168759e-01,  4.63699251e-01,\n",
            "        1.77864045e-01, -3.84515256e-01, -1.87126026e-01,  1.83995944e-02,\n",
            "        5.72027592e-03,  5.69239080e-01,  7.69338086e-02,  1.63262412e-01,\n",
            "        9.37877316e-03,  8.35820809e-02,  1.32307373e-02, -2.10230350e-01,\n",
            "        1.47850662e-01,  2.13146552e-01,  1.26452804e-01, -4.39664900e-01,\n",
            "       -2.16775239e-01, -2.43847887e-03,  2.38888204e-01,  3.34992915e-01,\n",
            "        7.07770810e-02, -3.20951283e-01, -7.58941472e-02,  4.30287898e-01,\n",
            "        1.56892970e-01,  2.20734060e-01, -3.43737602e-01,  1.22918673e-01,\n",
            "       -3.02317798e-01, -1.93216026e-01,  2.19240375e-02, -1.49532691e-01,\n",
            "        7.96826109e-02, -4.41674769e-01,  4.23427939e-01, -1.62134450e-02,\n",
            "        4.04201776e-01, -4.51618850e-01,  2.64693379e-01,  3.42530757e-01,\n",
            "        5.06694727e-02,  3.12136352e-01, -4.23437990e-02,  6.37111664e-01,\n",
            "        1.05018236e-01, -2.48946339e-01,  3.68116312e-02, -2.69313633e-01,\n",
            "       -2.71893948e-01,  1.88946292e-01,  2.16675118e-01,  3.83459210e-01,\n",
            "       -2.56762087e-01,  1.66286334e-01,  1.85090452e-01,  2.86456607e-02,\n",
            "       -3.53331625e-01, -4.47100133e-01, -5.37287354e-01, -3.30419958e-01,\n",
            "       -1.04291178e-01,  1.85267478e-02, -2.68823028e-01, -1.60627142e-01,\n",
            "        1.62165314e-01,  1.99412540e-01,  1.32303774e-01, -9.57867596e-03,\n",
            "       -2.51836300e-01,  2.26199324e-03,  4.93146151e-01, -3.25614899e-01,\n",
            "       -1.93073750e-02, -1.06115907e-01,  2.67263735e-03, -3.59273180e-02,\n",
            "       -3.12713593e-01,  4.29316252e-01, -2.88076311e-01,  1.59506693e-01,\n",
            "       -1.07230335e-01,  8.61873105e-02, -2.06791937e-01, -1.16034254e-01,\n",
            "       -8.84293541e-02,  2.10686728e-01,  8.09875354e-02, -3.55671495e-02,\n",
            "       -7.16982633e-02,  9.46489722e-02, -6.29689395e-02, -2.65137285e-01,\n",
            "       -1.41661510e-01,  5.84187806e-01,  2.22607777e-01, -5.32470606e-02,\n",
            "       -2.43748814e-01,  7.07101762e-01, -2.25504220e-01, -4.40544665e-01,\n",
            "        1.81587979e-01,  7.28031620e-02, -1.50486141e-01, -4.30919277e-03,\n",
            "       -1.32896408e-01,  9.32669938e-02,  9.48477611e-02,  5.37798345e-01,\n",
            "        2.46545255e-01, -1.84293777e-01,  5.59640303e-02,  3.34242843e-02,\n",
            "       -6.51344121e-01, -1.02800429e-01, -3.45066667e-01,  1.75798610e-01,\n",
            "       -1.49468273e-01, -3.88010964e-02, -1.08132131e-01, -1.06239542e-02,\n",
            "        8.98093134e-02,  4.10416834e-02, -2.92939633e-01,  3.76210868e-01,\n",
            "       -2.63671815e-01, -1.22463808e-03, -8.24483391e-03,  4.44005616e-02,\n",
            "       -2.45230168e-01,  1.27909228e-01,  3.71855348e-01,  4.38465253e-02,\n",
            "       -4.72027995e-02, -3.17137353e-02,  7.04784095e-02, -1.45217746e-01,\n",
            "       -4.20134604e-01, -4.43643667e-02, -4.09501493e-01, -5.37127294e-02,\n",
            "       -2.21661240e-01, -1.02884308e-01,  5.98173514e-02,  4.80544865e-02],\n",
            "      dtype=float32), 'Return Policy': array([-3.45428586e-01, -1.02622367e-01, -2.05343351e-01, -1.05821736e-01,\n",
            "        3.70964557e-02, -2.22774655e-01, -1.07827978e-02, -1.02890238e-01,\n",
            "        8.24946016e-02, -3.05277612e-02,  1.11772947e-01,  1.81066811e-01,\n",
            "       -5.56137003e-02, -1.97364435e-01,  2.65297264e-01, -1.47886649e-01,\n",
            "        1.81621090e-01, -5.29241599e-02,  1.02375805e-01, -1.93553925e-01,\n",
            "        4.87103015e-02,  1.97432246e-02, -2.43752196e-01, -3.16887423e-02,\n",
            "        2.79537705e-03, -3.47218901e-01, -1.12899579e-01, -1.16592012e-01,\n",
            "        6.97236732e-02, -4.07704204e-01,  7.85666555e-02, -1.05489604e-01,\n",
            "       -3.09070528e-01, -1.73094183e-01,  2.39131749e-01,  6.21785596e-02,\n",
            "       -2.14281574e-01, -4.83088434e-01,  8.87954235e-03, -2.70478111e-02,\n",
            "        1.17406785e-01,  1.54485196e-01, -2.96305835e-01,  2.43147567e-01,\n",
            "        6.84634224e-02,  2.07548797e-01,  8.81214365e-02,  7.87070692e-02,\n",
            "       -7.50047043e-02,  3.00798804e-01, -4.23515067e-02,  2.11960846e-03,\n",
            "       -4.91321944e-02,  2.96252370e-02, -2.82384068e-01,  9.42177325e-02,\n",
            "        1.09532155e-01,  5.96296266e-02,  2.25477405e-02, -2.55768865e-01,\n",
            "        3.25114757e-01, -4.95268494e-01, -3.57185125e-01, -1.84739813e-01,\n",
            "       -1.90768853e-01, -3.81286293e-01, -1.50358051e-01, -1.44848153e-01,\n",
            "        9.15618315e-02, -9.81550887e-02,  9.99154672e-02,  4.82776463e-02,\n",
            "       -3.73825759e-01,  2.68269628e-01,  1.56425834e-01,  1.84899062e-01,\n",
            "        2.74560601e-01, -9.27164927e-02,  1.12475455e-01,  9.64950621e-02,\n",
            "        3.18544209e-02, -1.36546224e-01, -8.70563164e-02, -3.78314070e-02,\n",
            "        6.54866248e-02, -1.43437190e-02,  2.51993984e-02,  3.58372420e-01,\n",
            "       -3.34593561e-03,  3.07272524e-01,  7.48536289e-02,  1.52008399e-01,\n",
            "        2.69053012e-01, -1.08794775e-02, -1.33747667e-01,  1.07994251e-01,\n",
            "        2.73851514e-01,  1.30590320e-01,  2.65774697e-01,  2.09975883e-01,\n",
            "        2.13122249e-01, -1.96070857e-02, -1.86230868e-01, -3.93797457e-01,\n",
            "       -2.81488240e-01,  1.32884737e-02,  8.60306323e-02,  3.15432578e-01,\n",
            "        3.21068317e-01, -9.32725221e-02, -3.53844583e-01,  6.25586510e-02,\n",
            "       -7.79566318e-02,  1.34538934e-02, -3.65200877e-01,  3.78105730e-01,\n",
            "       -1.02147304e-01, -1.28784388e-01,  6.09412268e-02, -2.60368854e-01,\n",
            "        1.34805888e-01, -1.06881991e-01,  2.33625278e-01, -3.90328318e-01,\n",
            "       -2.42094740e-01,  1.34933367e-01,  3.69699717e-01,  1.78980738e-01,\n",
            "       -3.81734520e-01,  3.42598259e-01,  7.91967064e-02, -2.64841259e-01,\n",
            "        1.94431022e-01, -2.80248243e-02,  2.71659672e-01, -4.70406748e-02,\n",
            "       -2.38674074e-01, -2.22221270e-01, -2.35264093e-01,  6.22101016e-02,\n",
            "        1.75557867e-01,  5.57379201e-02, -1.88590527e-01,  1.35826990e-01,\n",
            "        6.65280521e-02,  1.50524139e-01,  5.50388873e-01,  2.50001419e-02,\n",
            "        3.42331320e-01, -1.29627779e-01, -2.81122308e-02, -1.14252686e-03,\n",
            "       -2.19662860e-01,  4.65186983e-02, -1.58350587e-01,  1.60403103e-01,\n",
            "        7.55985826e-02, -5.45498095e-02,  3.21072966e-01, -1.77251063e-02,\n",
            "        2.17568889e-01, -4.58172224e-02, -6.58899248e-02,  2.50420332e-01,\n",
            "       -9.50134844e-02, -1.30048841e-01,  5.07348552e-02, -2.39020258e-01,\n",
            "       -1.77989349e-01,  8.06842116e-04, -1.61626413e-01,  1.45777181e-01,\n",
            "       -2.54027545e-01, -1.73509195e-01,  9.09474492e-02, -1.19088642e-01,\n",
            "        1.25109866e-01,  4.80589606e-02, -3.53532493e-01,  6.81868345e-02,\n",
            "        2.33571306e-02, -1.65589824e-01, -2.16384754e-01, -8.52762833e-02,\n",
            "        1.34300187e-01, -2.12764889e-02, -3.95475477e-02, -4.93923984e-02,\n",
            "       -6.93271011e-02,  9.95833278e-02, -4.21311706e-02,  2.08683744e-01,\n",
            "       -2.63699681e-01, -2.17589196e-02,  2.28901982e-01, -1.90575927e-01,\n",
            "       -1.13565288e-01, -3.72702003e-01,  3.04377943e-01,  7.28269964e-02,\n",
            "        2.62003273e-01,  1.99546874e-01, -2.41362187e-03,  2.58050054e-01,\n",
            "       -7.04687536e-02,  2.36131445e-01,  4.74052668e-01, -3.90880138e-01,\n",
            "        4.70333621e-02,  6.78259432e-02, -2.02495605e-01,  2.61693776e-01,\n",
            "        1.64373830e-01,  3.47299367e-01,  1.56014383e-01, -7.93258324e-02,\n",
            "       -1.40561005e-02,  3.20535928e-01, -5.09814918e-02, -2.36357436e-01,\n",
            "       -1.89836666e-01,  1.16230592e-01,  5.64820409e-01, -1.92758039e-01,\n",
            "        7.64496848e-02,  2.88264990e-01, -2.10762098e-02, -1.67540088e-01,\n",
            "       -1.07657842e-01,  1.45394474e-01, -2.08084565e-02,  5.52154660e-01,\n",
            "        3.01318079e-01,  1.18398212e-01, -1.85467988e-01, -3.51079516e-02,\n",
            "        7.56813064e-02,  2.86914278e-02, -4.65255558e-01, -3.39423260e-03,\n",
            "       -2.05192313e-01,  1.04711149e-02, -8.04799423e-02, -4.20299500e-01,\n",
            "       -2.87076265e-01,  1.97381645e-01, -3.18898588e-01,  7.10344985e-02,\n",
            "       -2.28552297e-01,  1.66928500e-01,  3.49713750e-02, -2.50277698e-01,\n",
            "       -1.93224773e-01, -1.97076663e-01, -3.29146609e-02, -1.83853567e-01,\n",
            "       -1.23366944e-01,  3.74226302e-01,  9.43657197e-03,  6.74825087e-02,\n",
            "        1.70126274e-01,  3.70050780e-02,  1.27600938e-01,  3.32118779e-01,\n",
            "        8.35877955e-02,  2.66016293e-02,  3.27106938e-02,  3.29875313e-02,\n",
            "       -1.99378077e-02, -3.53475302e-01, -1.93155944e-01, -4.64722246e-01,\n",
            "        2.93575376e-01,  3.51119280e-01,  1.91456974e-01,  1.12680048e-01,\n",
            "        2.35879019e-01, -1.05768837e-01, -1.67013869e-01,  6.33946061e-01,\n",
            "        3.56859595e-01, -2.30883494e-01, -1.23335399e-01,  3.78892361e-03,\n",
            "       -1.68267578e-01, -6.09021150e-02,  8.44665840e-02, -1.47307098e-01,\n",
            "        6.58950210e-02, -2.36522958e-01,  3.53793710e-01, -1.46184545e-02,\n",
            "        1.07066110e-01, -3.36551607e-01,  1.84432939e-01,  4.72139344e-02,\n",
            "       -3.47931162e-02, -1.36542603e-01,  2.63960660e-01, -6.61826059e-02,\n",
            "        7.37068127e-04,  9.90297496e-02,  1.02022968e-01,  2.36491233e-01,\n",
            "       -1.96795672e-01,  1.07893266e-01,  1.58061311e-01,  1.46622017e-01,\n",
            "        2.47274309e-01, -3.75093281e-01, -6.18114769e-02, -2.93872178e-01,\n",
            "        1.89701200e-03,  2.90062558e-02, -1.99670509e-01,  1.08921021e-01,\n",
            "        1.28846899e-01,  1.82773307e-01,  3.15472186e-01,  8.99229795e-02,\n",
            "        8.45813379e-02,  1.67419225e-01,  2.52147645e-01,  1.92467615e-01,\n",
            "        3.15242000e-02,  2.26826102e-01,  2.04505786e-01,  1.05908113e-02,\n",
            "       -8.26860517e-02,  6.03427738e-02, -2.97474563e-01, -2.62089781e-02,\n",
            "        1.89334601e-02, -3.75304259e-02, -3.69357944e-01,  8.88923481e-02,\n",
            "       -1.18668221e-01,  6.71513626e-05, -1.87399715e-01, -1.22645691e-01,\n",
            "       -8.73412713e-02,  4.47935373e-01,  5.29799163e-01, -9.61611941e-02,\n",
            "       -1.52066499e-01,  1.56213611e-01,  2.24393070e-01,  3.63355726e-01,\n",
            "       -5.91379926e-02, -2.34265253e-01, -3.05658691e-02, -4.58877310e-02,\n",
            "        2.26148173e-01, -1.07795559e-01, -1.88974783e-01, -2.62652457e-01,\n",
            "        6.89745098e-02,  2.90016159e-02, -1.02428585e-01,  1.20400093e-01,\n",
            "        9.87296626e-02, -4.59053591e-02, -6.93335161e-02,  2.13040709e-02,\n",
            "        4.00220370e-03,  5.07849716e-02, -6.49615109e-01, -1.42911479e-01,\n",
            "       -6.80797398e-02, -1.19679779e-01, -2.23639831e-02, -2.40979329e-01,\n",
            "       -2.05035403e-01,  7.60968104e-02, -5.67271700e-03, -1.54476389e-01,\n",
            "       -1.53225036e-02,  2.13686198e-01,  4.06427681e-01,  8.29678029e-02,\n",
            "        1.59709036e-01, -4.84067678e-01,  4.96398173e-02, -1.43249556e-01],\n",
            "      dtype=float32), 'Warranty': array([-3.82808059e-01,  3.95324081e-02,  2.95498580e-01, -6.88987851e-01,\n",
            "       -1.77658305e-01,  1.01169281e-01, -1.57014206e-01,  1.99442640e-01,\n",
            "       -2.66683042e-01, -8.28709528e-02,  1.87248647e-01,  4.94361609e-01,\n",
            "        3.17089528e-01, -1.82683170e-01,  1.30101582e-02, -9.39544514e-02,\n",
            "        4.94660661e-02, -4.96738136e-01,  2.10556626e-01, -1.83939263e-01,\n",
            "        3.86252962e-02, -1.87991619e-01, -5.24451494e-01, -2.13336483e-01,\n",
            "       -2.84280688e-01, -1.72256902e-01, -2.13634536e-01,  2.05841027e-02,\n",
            "        2.51503587e-01, -3.30064833e-01,  5.22499438e-04,  4.36986685e-01,\n",
            "        1.15131482e-01,  1.78305015e-01,  3.08789276e-02, -1.20026886e-01,\n",
            "       -2.98434675e-01, -3.87906492e-01, -1.23783976e-01,  1.01915836e-01,\n",
            "       -2.98933953e-01, -3.58930267e-02, -4.75475669e-01,  4.98860538e-01,\n",
            "       -6.62959665e-02,  1.97152346e-02,  2.81142354e-01, -6.32579206e-03,\n",
            "        2.81181693e-01,  1.84506059e-01,  2.71806777e-01,  1.59845844e-01,\n",
            "        1.78936303e-01,  4.61060368e-02, -2.05228686e-01, -2.68795669e-01,\n",
            "        1.88024864e-01,  3.77432615e-01,  1.88839391e-01,  2.67132521e-01,\n",
            "        1.87723890e-01,  2.86622010e-02, -1.29231080e-01, -9.89399701e-02,\n",
            "        2.44408716e-02, -6.11116132e-03,  1.80427104e-01, -1.07994683e-01,\n",
            "        1.03522487e-01,  3.02347541e-01, -1.01504498e-03, -9.55522805e-02,\n",
            "       -4.07843769e-01,  4.03131068e-01,  5.74470721e-02,  2.11748779e-01,\n",
            "        1.09454714e-01, -7.28485500e-03,  9.70455110e-02, -4.26723093e-01,\n",
            "       -3.49298298e-01, -1.15896590e-01, -1.30428523e-01, -1.35169312e-01,\n",
            "       -1.60655826e-01, -2.69954473e-01, -1.99545294e-01,  4.01523948e-01,\n",
            "        1.53592601e-01, -1.43448934e-01,  5.11976600e-01,  2.70075142e-01,\n",
            "        1.50712848e-01, -5.14670983e-02, -2.43250206e-01, -7.67856240e-02,\n",
            "        7.45946961e-03,  1.58970013e-01,  3.32250893e-02,  1.64782971e-01,\n",
            "        2.92449117e-01, -1.53276563e-01, -6.36723340e-01,  1.51120216e-01,\n",
            "       -8.48068595e-02,  2.81110197e-01,  8.15438777e-02, -1.56119034e-01,\n",
            "       -1.74198642e-01,  2.03419626e-01,  1.96467772e-01,  2.65065312e-01,\n",
            "        3.23679447e-02, -7.30462223e-02, -1.79150149e-01,  5.58361709e-01,\n",
            "       -2.61085868e-01,  1.88059866e-01,  8.41057450e-02, -3.82453144e-01,\n",
            "        2.92499989e-01, -4.99620102e-02,  1.14563771e-01, -3.44125152e-01,\n",
            "       -8.24117064e-02,  1.40313819e-01,  2.19333529e-01,  2.30930015e-01,\n",
            "       -5.80100775e-01,  1.54258892e-01, -1.62104666e-01, -1.85893327e-01,\n",
            "        1.87110111e-01,  2.15805192e-02,  4.85713869e-01,  3.08297366e-01,\n",
            "       -5.97166777e-01,  3.30591202e-01,  1.25006482e-01,  3.67948234e-01,\n",
            "       -4.78878081e-01, -3.21836382e-01,  2.90746778e-01,  3.15656096e-01,\n",
            "        3.27671021e-01, -2.32722331e-02,  2.95694917e-01,  6.78251460e-02,\n",
            "        2.22905725e-01, -6.96518958e-01, -3.10443584e-02,  1.20496012e-01,\n",
            "        3.38552982e-01,  1.40600786e-01,  2.71986127e-01,  4.74988848e-01,\n",
            "        5.02015114e-01, -3.00517678e-01, -1.98403209e-01,  1.66834127e-02,\n",
            "       -1.44612446e-01,  1.35580719e-01,  2.11003736e-01,  1.81759924e-01,\n",
            "        2.51944900e-01,  9.11464915e-03, -1.78291257e-02, -1.91463549e-02,\n",
            "        8.43736343e-03, -1.78893527e-03,  4.03268099e-01,  1.24021582e-01,\n",
            "        1.31879291e-02, -1.76909104e-01,  2.18688641e-02,  1.07774241e-02,\n",
            "        2.72240013e-01, -7.02987164e-02, -2.90277600e-01, -2.55012680e-02,\n",
            "       -2.49090210e-01, -3.41086656e-01, -5.04892886e-01,  3.56104076e-01,\n",
            "       -1.41405165e-01, -2.60004580e-01,  8.49870741e-02, -1.49958497e-02,\n",
            "       -7.69826323e-02, -2.37919297e-02, -4.59611900e-02,  3.24861854e-01,\n",
            "       -2.54369169e-01, -3.55498530e-02, -1.60328165e-01, -1.45787776e-01,\n",
            "        5.11152074e-02,  2.64891386e-01, -1.09171100e-01,  1.63421512e-01,\n",
            "       -3.89679253e-01,  2.58800760e-02, -2.78410763e-02, -4.07298356e-02,\n",
            "        3.17041069e-01,  1.43685803e-01,  2.26124093e-01, -1.93570733e-01,\n",
            "       -4.43800360e-01,  1.18430182e-02,  4.42699432e-01,  3.92729163e-01,\n",
            "        2.36817196e-01, -7.72150606e-02, -1.29638584e-02,  1.20453071e-02,\n",
            "       -1.40896633e-01, -9.82590467e-02, -2.46319726e-01, -2.66457759e-02,\n",
            "       -2.67083526e-01,  4.07627150e-02,  1.83768407e-01, -1.21101484e-01,\n",
            "        1.13985106e-01,  6.25953376e-02,  3.25651556e-01,  1.98506877e-01,\n",
            "        3.82521003e-01,  1.32372767e-01, -3.19366366e-01,  8.06140661e-01,\n",
            "       -3.24536636e-02, -5.66800050e-02,  1.77730501e-01, -7.45430589e-02,\n",
            "       -9.31410566e-02, -1.74300894e-01, -5.01186490e-01,  2.29474515e-01,\n",
            "        1.12855516e-01, -2.05446437e-01, -6.29069796e-03, -1.59980118e-01,\n",
            "        4.60465886e-02,  1.35899991e-01, -2.28862807e-01,  1.53993890e-01,\n",
            "        2.45348141e-01, -1.74567491e-01, -1.08468637e-01, -1.38246700e-01,\n",
            "        1.56350121e-01,  3.64512146e-01, -1.98367685e-01, -4.81828690e-01,\n",
            "       -1.30412579e-01,  3.09254706e-01, -1.78182460e-02, -3.29720438e-01,\n",
            "        2.55344689e-01, -1.22541143e-03, -9.54438075e-02,  5.76216817e-01,\n",
            "        2.59359926e-01,  6.10067584e-02,  1.22558950e-02, -1.17059864e-01,\n",
            "       -3.24539125e-01, -5.16207635e-01,  1.81171760e-01, -2.25022197e-01,\n",
            "        2.61126220e-01, -1.06568068e-01,  2.69356281e-01,  2.30947390e-01,\n",
            "        5.37993550e-01,  3.31797972e-02, -3.69716287e-01,  3.93018931e-01,\n",
            "        5.99351861e-02,  6.32008724e-03, -8.35235417e-02,  1.09760828e-01,\n",
            "        1.61278352e-01,  5.63170947e-02, -3.05337220e-01, -5.26875854e-01,\n",
            "       -2.12905601e-01, -2.75563002e-01,  1.41442969e-01,  1.09544866e-01,\n",
            "       -2.58189976e-01, -9.47167575e-02,  2.42672652e-01, -1.86607078e-01,\n",
            "       -2.16515005e-01, -3.66808325e-01,  2.37206742e-02, -6.24650300e-01,\n",
            "        4.32634093e-02, -2.90131457e-02, -1.72694460e-01, -3.40295844e-02,\n",
            "        7.54898190e-02,  6.21173456e-02,  2.84668952e-02,  2.75831878e-01,\n",
            "       -3.05196792e-02, -2.70590074e-02,  1.24268934e-01, -1.28687993e-01,\n",
            "        3.54986697e-01,  2.62833148e-01, -1.35777414e-01,  1.88907415e-01,\n",
            "       -1.64322495e-01,  4.54520553e-01, -1.78241447e-01,  1.83356658e-01,\n",
            "        6.34976551e-02,  3.72842252e-01,  1.51159614e-01, -1.57214805e-01,\n",
            "        5.67151271e-02,  2.29926601e-01, -1.52741432e-01, -2.53001183e-01,\n",
            "       -1.04581058e-01,  8.49239975e-02,  2.77386755e-01, -1.32928908e-01,\n",
            "       -3.77741784e-01, -2.45665967e-01, -4.68837172e-01,  3.36076677e-01,\n",
            "       -1.70149788e-01,  3.48520458e-01, -1.77585796e-01,  4.37894799e-02,\n",
            "       -2.12051675e-01,  1.32797286e-01,  2.48760432e-01, -1.36828989e-01,\n",
            "       -3.88609350e-01,  1.84266686e-01, -4.40904945e-02, -2.13593785e-02,\n",
            "        2.36677125e-01, -7.05537573e-02, -2.17889458e-01, -7.16999322e-02,\n",
            "        2.04496793e-02, -2.01620772e-01, -1.10443570e-01, -3.63303453e-01,\n",
            "       -4.22076285e-01, -3.79225723e-02,  4.37811129e-02,  1.99335068e-01,\n",
            "       -1.03915989e-01,  1.89378291e-01, -7.09639639e-02,  1.80215582e-01,\n",
            "       -1.06322356e-01, -1.19047970e-01, -3.02780181e-01, -1.13849819e-01,\n",
            "       -4.93692234e-02,  1.47381008e-01,  5.15052617e-01, -1.07636452e-01,\n",
            "       -2.11002767e-01,  3.63364629e-02, -5.28874844e-02,  2.69578621e-02,\n",
            "        1.55115083e-01,  1.43128317e-02, -2.75195152e-01, -1.52205095e-01,\n",
            "       -4.11431253e-01, -4.15918350e-01,  1.67080402e-01,  9.97691602e-02],\n",
            "      dtype=float32), 'Customer Service': array([-1.84545949e-01, -7.38012493e-02,  9.17180330e-02, -4.05067563e-01,\n",
            "       -1.64500013e-01, -2.61027753e-01, -2.41817221e-01,  8.45998302e-02,\n",
            "       -1.67888273e-02,  1.95195124e-01, -8.71641003e-03,  1.98847309e-01,\n",
            "       -1.88685767e-02,  6.42309338e-02,  1.55872218e-02, -9.66651216e-02,\n",
            "        2.39235103e-01, -3.98700446e-01,  7.99178332e-02,  2.24417195e-01,\n",
            "       -3.47403198e-01, -2.27279142e-01, -1.63284108e-01, -1.40382841e-01,\n",
            "       -8.91012996e-02, -1.67981401e-01, -6.18469305e-02,  1.19657323e-01,\n",
            "       -4.66139708e-03, -6.54457435e-02,  1.50035545e-01,  4.58009094e-02,\n",
            "        3.21179241e-01, -1.65399179e-01,  1.72873680e-02,  1.52186051e-01,\n",
            "       -1.42303482e-01, -2.22595364e-01, -4.24377024e-01, -9.39453244e-02,\n",
            "       -1.37751192e-01, -1.13969520e-01, -1.98787183e-01,  1.93391487e-01,\n",
            "       -4.34867926e-02,  6.70543760e-02, -2.44087681e-01,  6.50324747e-02,\n",
            "        9.17815790e-02,  1.39964432e-01, -1.14338156e-02,  9.83237326e-02,\n",
            "        3.26349586e-03,  1.90172121e-01,  1.33890614e-01, -2.25716352e-01,\n",
            "       -2.72874802e-01,  2.72329509e-01,  4.90589291e-02,  1.61548018e-01,\n",
            "        5.06642759e-01, -2.23096892e-01, -1.69842541e-01, -6.44776272e-03,\n",
            "       -7.76562840e-02,  2.90569276e-01,  1.96399584e-01,  2.97582000e-02,\n",
            "       -4.08597328e-02, -8.60281885e-02, -2.37505794e-01, -5.99972829e-02,\n",
            "        1.33002952e-01,  1.09407172e-01,  6.48339838e-02,  4.41608459e-01,\n",
            "        3.32423300e-02, -1.58957213e-01,  2.01573193e-01,  5.85807860e-02,\n",
            "        4.06969666e-01, -1.48601755e-02, -1.24629505e-01, -1.97708458e-01,\n",
            "        1.86750636e-01, -9.88390297e-03,  4.29157130e-02,  3.15995753e-01,\n",
            "        1.88135393e-02, -3.25528651e-01, -1.28287137e-01,  6.06488705e-01,\n",
            "        1.53625414e-01, -2.48798639e-01,  6.36811778e-02, -5.50347194e-02,\n",
            "       -5.15186898e-02, -3.23725790e-01, -2.76900709e-01,  1.15889952e-01,\n",
            "       -2.17525195e-02,  1.26556903e-01, -3.69955271e-01, -1.19935215e-01,\n",
            "       -3.40780556e-01,  1.27879903e-02,  1.55770138e-01,  2.35666856e-01,\n",
            "        9.38315094e-02,  1.75278649e-01, -1.38418853e-01,  6.94514737e-02,\n",
            "       -3.17964375e-01, -9.83033255e-02, -1.30072325e-01,  1.85174674e-01,\n",
            "       -7.44868219e-02, -1.12382658e-01,  5.35911024e-01, -5.16354591e-02,\n",
            "        1.19478345e-01, -2.29928747e-01,  7.95074999e-02, -9.59122255e-02,\n",
            "        4.12413508e-01,  1.43254071e-01, -1.56926274e-01,  2.08390266e-01,\n",
            "       -3.38456750e-01,  6.46257043e-01,  6.19066507e-02,  4.26488109e-02,\n",
            "        7.85411447e-02,  6.97073117e-02, -6.28212243e-02,  1.64787143e-01,\n",
            "       -1.42496407e-01, -8.91013443e-02, -7.26305619e-02, -6.81231841e-02,\n",
            "        1.18110254e-01, -1.98002279e-01,  2.30626762e-01,  4.28983476e-03,\n",
            "        2.18442485e-01, -1.03170402e-01, -4.18184809e-02, -1.12133272e-01,\n",
            "        5.06344475e-02, -4.96859282e-01, -1.74496230e-03,  2.84729391e-01,\n",
            "        3.35848331e-01,  1.22522667e-01,  3.34608793e-01,  2.91016519e-01,\n",
            "        5.52701414e-01, -1.29928812e-01, -8.51450115e-02, -2.91785330e-01,\n",
            "        1.48967355e-02, -9.33906138e-02,  1.16387531e-01,  1.80976942e-01,\n",
            "       -8.63169432e-02, -2.41850376e-01, -8.86561424e-02, -5.95734827e-02,\n",
            "       -1.74971193e-01,  3.51402313e-02, -6.68949410e-02,  3.49642113e-02,\n",
            "        8.38823915e-02, -7.49423057e-02,  1.83809698e-01, -9.12175104e-02,\n",
            "        2.04770714e-01,  1.85482681e-01, -3.39924246e-01,  3.46811026e-01,\n",
            "       -2.78191537e-01,  9.73450392e-02, -3.19563523e-02, -9.46590602e-02,\n",
            "       -1.16659932e-01,  1.67209469e-02, -6.44065887e-02, -3.19163129e-03,\n",
            "       -7.85515308e-02, -2.89722502e-01, -4.19691831e-01, -1.58338189e-01,\n",
            "       -5.74110411e-02, -3.30194652e-01, -1.51065424e-01, -2.97569275e-01,\n",
            "       -1.07766204e-02, -7.61388987e-02, -2.75827348e-01,  2.26027220e-01,\n",
            "        4.03930545e-02,  1.90674052e-01, -2.47336313e-01, -2.14740094e-02,\n",
            "       -7.47265145e-02,  3.28585684e-01,  2.30677262e-01,  1.42296031e-02,\n",
            "        3.57962959e-03,  7.95567855e-02,  1.12036005e-01,  1.58613026e-01,\n",
            "        2.62604803e-01, -4.62865606e-02, -2.13309646e-01,  5.99622689e-02,\n",
            "       -4.06180948e-01,  3.69315654e-01,  1.53923586e-01,  4.61636186e-01,\n",
            "       -2.56435990e-01,  1.16820291e-01, -1.52289540e-01, -2.43941545e-01,\n",
            "       -1.97268516e-01,  1.17702268e-01, -1.26268744e-01,  2.52573550e-01,\n",
            "       -1.51616521e-02, -1.17958769e-01,  1.19772665e-02,  2.12730974e-01,\n",
            "        3.10288697e-01, -9.76600125e-02,  2.90391326e-01,  1.74558237e-01,\n",
            "        2.31701851e-01, -1.65914953e-01, -1.91474348e-01,  2.73053706e-01,\n",
            "       -2.94967890e-01, -2.71917760e-01,  5.01622185e-02,  2.95046717e-03,\n",
            "       -3.27684619e-02,  4.76736903e-01, -2.48599231e-01,  1.86838627e-01,\n",
            "        1.85137480e-01,  2.82127470e-01,  4.25393492e-01, -4.20856118e-01,\n",
            "        4.73993085e-02,  1.06798420e-02, -1.10908886e-02, -2.20722899e-01,\n",
            "       -1.67974561e-01,  2.14681476e-01,  4.11098421e-01,  3.27520400e-01,\n",
            "        3.14827025e-01, -8.15320909e-02,  7.44299442e-02,  4.47051227e-01,\n",
            "        4.76307005e-01,  1.75088093e-01, -2.31809780e-01, -2.25487296e-02,\n",
            "       -2.15691194e-01, -3.61446679e-01, -1.31486565e-01, -3.30895513e-01,\n",
            "        1.26738235e-01, -1.83350712e-01,  4.12967771e-01,  2.83162389e-03,\n",
            "        5.75702488e-01, -4.05998826e-02,  1.29194871e-01,  3.72170269e-01,\n",
            "        1.81618288e-01,  1.22245878e-01,  4.20602150e-02,  3.80423039e-01,\n",
            "        2.67860025e-01, -3.24769586e-01,  1.38118833e-01, -3.25336963e-01,\n",
            "        1.11093540e-02, -1.87718831e-02,  2.38235310e-01,  6.33079857e-02,\n",
            "        1.08064376e-02,  2.62032449e-01, -3.47618908e-02, -1.92887932e-01,\n",
            "       -2.24028483e-01, -3.33375961e-01, -1.36831760e-01, -7.53988475e-02,\n",
            "       -1.78336143e-01, -1.91707164e-04, -1.20630808e-01,  1.26135033e-02,\n",
            "        2.01893151e-02,  4.27893817e-01,  2.70720012e-02, -4.15226445e-02,\n",
            "        2.20638126e-01, -9.07815546e-02,  3.73121023e-01,  1.84075147e-01,\n",
            "        5.48176914e-02,  1.29117727e-01, -8.26528370e-02,  6.38485551e-02,\n",
            "       -3.88150692e-01,  2.04852998e-01, -7.51606422e-03,  3.42992246e-02,\n",
            "        2.69353151e-01, -1.15440100e-01, -1.84307843e-01, -2.18618914e-01,\n",
            "       -1.55134499e-02,  3.52803431e-02, -1.86415479e-01, -5.29518425e-01,\n",
            "        2.24346817e-02,  9.88256708e-02,  2.02840060e-01, -1.39544666e-01,\n",
            "       -1.52095109e-01,  2.69839704e-01,  9.47649702e-02, -9.77514014e-02,\n",
            "       -4.61528033e-01,  2.09946156e-01, -1.24365747e-01, -2.76738822e-01,\n",
            "        4.71700579e-02,  9.31335986e-02, -1.06747173e-01, -7.73020834e-02,\n",
            "       -1.72804266e-01,  2.00798586e-02,  1.12240642e-01,  6.30689800e-01,\n",
            "       -1.26963500e-02, -2.47036278e-01, -1.88623637e-01,  1.21655269e-02,\n",
            "       -5.17548680e-01, -1.83465779e-01, -4.45469320e-01,  1.47592127e-01,\n",
            "       -2.88832963e-01,  2.20576078e-02, -2.75533408e-01,  2.37275004e-01,\n",
            "        4.78172451e-02,  1.66681424e-01, -4.95765746e-01,  1.88712776e-01,\n",
            "       -8.43337104e-02,  2.41597071e-02,  1.18360892e-02, -1.00727148e-01,\n",
            "       -1.52354702e-01,  4.81175631e-02,  1.08752444e-01, -4.30844426e-02,\n",
            "       -6.76784571e-03, -6.33583665e-02,  4.02086526e-02, -3.23634714e-01,\n",
            "        4.58114222e-02, -1.15087807e-01, -3.90283056e-02,  6.49604276e-02,\n",
            "       -6.48963302e-02,  2.90237200e-02, -2.96289384e-01,  1.36561438e-01],\n",
            "      dtype=float32), 'Environmental Commitment': array([ 0.1054931 ,  0.16810347,  0.30365014, -0.25219113,  0.3393949 ,\n",
            "       -0.12663409,  0.13755557,  0.08763113, -0.11949717,  0.31990147,\n",
            "        0.12303291,  0.09825394,  0.28566685,  0.12393732, -0.25709352,\n",
            "       -0.03868875, -0.36689827,  0.0071245 ,  0.18834394,  0.20972814,\n",
            "        0.04197213, -0.13151278,  0.19235753, -0.1600219 , -0.12234587,\n",
            "        0.16581222, -0.29972273, -0.00627951, -0.0346867 , -0.28883964,\n",
            "        0.05198193,  0.49360007,  0.1145488 , -0.01849043, -0.04181646,\n",
            "        0.41736305,  0.04571379, -0.30956256, -0.2749993 , -0.1709611 ,\n",
            "       -0.4345689 , -0.24336874, -0.07364134,  0.07898334,  0.2929116 ,\n",
            "       -0.24782506,  0.1412121 , -0.09757694, -0.01008079, -0.44054988,\n",
            "        0.6279514 , -0.01752598,  0.2900378 , -0.1567858 ,  0.08409403,\n",
            "        0.08750272,  0.33744588,  0.39279413,  0.14084087, -0.09395039,\n",
            "        0.50700176, -0.49353707, -0.33860764, -0.15385239,  0.21841368,\n",
            "        0.02661338,  0.2512583 ,  0.3114059 , -0.12306809, -0.04662897,\n",
            "        0.05432073, -0.14673628,  0.43437552,  0.04284725,  0.33868575,\n",
            "       -0.00686878,  0.12825742, -0.05412739, -0.16395073,  0.19300692,\n",
            "        0.14297535,  0.1980965 , -0.03453183, -0.6637691 ,  0.12250423,\n",
            "        0.1550226 ,  0.09989508,  0.04524243,  0.03701321, -0.31457508,\n",
            "       -0.09499819,  0.42654276,  0.49112758, -0.32448584,  0.09927429,\n",
            "        0.21900478, -0.33438617, -0.3889171 ,  0.21690123,  0.13407719,\n",
            "        0.021746  ,  0.391025  , -0.2758516 , -0.23126636, -0.49650136,\n",
            "       -0.21228862, -0.06228684,  0.27151647,  0.09588413,  0.08675041,\n",
            "       -0.04156746,  0.17570174, -0.3399568 , -0.06598253,  0.00935776,\n",
            "        0.17452344, -0.16093566, -0.2052067 ,  0.5419171 , -0.4725388 ,\n",
            "        0.00208493, -0.19836952,  0.15831725, -0.10653819, -0.07821345,\n",
            "       -0.04628764, -0.11005157,  0.2540914 , -0.33431986,  0.38590124,\n",
            "       -0.12656578, -0.11057869,  0.3816992 , -0.00801633, -0.01606857,\n",
            "       -0.05551666, -0.12204681, -0.24467562,  0.08598493,  0.41166595,\n",
            "       -0.39728555,  0.05574562,  0.27065882, -0.18578176, -0.14655082,\n",
            "        0.19499303,  0.05159996, -0.1438673 ,  0.1602376 ,  0.04977253,\n",
            "       -0.03224287, -0.08196522,  0.6122023 ,  0.05223199,  0.3811195 ,\n",
            "        0.23044285,  0.46896195, -0.2980204 , -0.3249364 ,  0.21200055,\n",
            "       -0.0254828 , -0.14536567,  0.03491288, -0.04079533, -0.4208757 ,\n",
            "        0.10403594, -0.09591599, -0.20935993,  0.03781161, -0.06718919,\n",
            "        0.41408896,  0.18247186,  0.36153612, -0.12900211,  0.16499583,\n",
            "       -0.23613894,  0.09945133, -0.18641646, -0.03697278,  0.39947745,\n",
            "       -0.41003764, -0.2828216 , -0.29367092, -0.04879368,  0.3197109 ,\n",
            "       -0.13323121,  0.01319117,  0.01158207, -0.19249336,  0.0018471 ,\n",
            "       -0.45230585, -0.06336076, -0.06815054, -0.02312929,  0.07737111,\n",
            "       -0.10927216,  0.04899285,  0.38041094, -0.50082064, -0.18699238,\n",
            "       -0.27947786,  0.2525531 ,  0.07259395,  0.00351737, -0.2213526 ,\n",
            "        0.14309865, -0.10115737, -0.09873917, -0.44493493,  0.18728118,\n",
            "       -0.15621069, -0.13608752,  0.2045962 ,  0.01838587, -0.20444553,\n",
            "        0.09192482, -0.06952421, -0.17690974,  0.20983645,  0.11562689,\n",
            "        0.29317024, -0.01777252, -0.12266847, -0.02178265,  0.07135356,\n",
            "        0.23989497,  0.2364079 ,  0.18542078,  0.08551661,  0.02559882,\n",
            "       -0.4230311 , -0.00661936, -0.10564584, -0.13043706,  0.24764921,\n",
            "        0.0732162 , -0.12298716, -0.05156491, -0.60547006,  0.24526095,\n",
            "        0.00358869, -0.09406201, -0.34928924, -0.20463395, -0.06434766,\n",
            "        0.72832114,  0.12260871,  0.15864407, -0.31799263, -0.27364093,\n",
            "        0.07027508, -0.2828333 ,  0.3672867 ,  0.16213319,  0.09033155,\n",
            "       -0.5570846 , -0.367577  , -0.14047492,  0.35133958,  0.09301269,\n",
            "        0.02005456, -0.3871534 , -0.34104502,  0.40008938,  0.46736714,\n",
            "        0.13323891, -0.23338912,  0.26588508, -0.32336205, -0.45888194,\n",
            "       -0.1994237 , -0.08337899,  0.11651419, -0.3340105 ,  0.637053  ,\n",
            "       -0.05445261,  0.456229  , -0.4501871 ,  0.18625446,  0.43373635,\n",
            "        0.24079771,  0.28558707, -0.15883994,  0.6080043 ,  0.03883864,\n",
            "       -0.1030115 ,  0.07647043, -0.1495344 , -0.1781092 , -0.22107922,\n",
            "        0.04987343,  0.08189418, -0.2570185 ,  0.03993933,  0.2560151 ,\n",
            "        0.28780028, -0.449434  , -0.09537926, -0.32000354, -0.41305014,\n",
            "       -0.07580357, -0.12581538, -0.10972572,  0.05599469,  0.01574583,\n",
            "        0.21920274,  0.07538796, -0.05277   , -0.01734845, -0.4078268 ,\n",
            "        0.1525444 , -0.35480303, -0.03931665,  0.16475332,  0.08481935,\n",
            "       -0.07736441, -0.3219404 ,  0.51792634, -0.04073962,  0.22872886,\n",
            "       -0.04708112,  0.21874309,  0.0160477 ,  0.00266195, -0.02727365,\n",
            "        0.22034627,  0.2835423 , -0.13416107, -0.24971643, -0.14141075,\n",
            "       -0.17654017, -0.03390018, -0.19962744,  0.38057125,  0.10583714,\n",
            "        0.11044525, -0.04796424,  0.50841963, -0.13912268, -0.17649661,\n",
            "        0.00439671,  0.01722707, -0.26116568,  0.1519253 , -0.13493083,\n",
            "        0.1037361 ,  0.28891817,  0.7375999 ,  0.4459158 , -0.12652889,\n",
            "        0.18764551, -0.09443021, -0.5434684 ,  0.01415785, -0.37205875,\n",
            "        0.05992114, -0.04526055,  0.04064629, -0.12925954, -0.06452414,\n",
            "        0.06181804, -0.29733592, -0.27320334,  0.32496747, -0.3900482 ,\n",
            "       -0.16286798, -0.4465748 ,  0.14761072, -0.12976947,  0.13173424,\n",
            "        0.29291144, -0.18032122,  0.05074771, -0.06091984,  0.04332779,\n",
            "       -0.13550991, -0.23513398,  0.10396197, -0.17132787, -0.10020132,\n",
            "       -0.12856297, -0.25428465,  0.38754472,  0.09957729], dtype=float32)}\n"
          ]
        }
      ]
    },
    {
      "cell_type": "code",
      "source": [
        "section_embeddings['About the Company'].shape"
      ],
      "metadata": {
        "colab": {
          "base_uri": "https://localhost:8080/"
        },
        "id": "ICPgQO-_5aBM",
        "outputId": "44bc60f1-3a77-477d-d153-0e856a9f4d99"
      },
      "execution_count": null,
      "outputs": [
        {
          "output_type": "execute_result",
          "data": {
            "text/plain": [
              "(384,)"
            ]
          },
          "metadata": {},
          "execution_count": 32
        }
      ]
    },
    {
      "cell_type": "code",
      "source": [
        "#Step 7 -Define the cosine similarity function\n",
        "def cosine_similarity(a,b):\n",
        "  return np.dot(a,b)/(np.linalg.norm(a) * np.linalg.norm(b))"
      ],
      "metadata": {
        "id": "KabHDpAg2OR2"
      },
      "execution_count": null,
      "outputs": []
    },
    {
      "cell_type": "code",
      "source": [
        "#Step 8 - Calculated similarity of each section\n",
        "\n",
        "similarities = {}\n",
        "for title,emb in section_embeddings.items():\n",
        "  #print(query_embedding.shape , emb.shape)\n",
        "  sim = cosine_similarity(query_embedding , emb)\n",
        "  similarities[title] = sim\n",
        "  print(f\"Similarity with {title} : {sim:.3f}\")\n"
      ],
      "metadata": {
        "colab": {
          "base_uri": "https://localhost:8080/"
        },
        "id": "gwMzXJac2WCi",
        "outputId": "f9bd5fa7-5e2c-4a1a-d6b9-96d9052d4c4d"
      },
      "execution_count": null,
      "outputs": [
        {
          "output_type": "stream",
          "name": "stdout",
          "text": [
            "Similarity with About the Company : -0.020\n",
            "Similarity with Return Policy : 0.471\n",
            "Similarity with Warranty : 0.125\n",
            "Similarity with Customer Service : 0.054\n",
            "Similarity with Environmental Commitment : 0.077\n"
          ]
        }
      ]
    },
    {
      "cell_type": "code",
      "source": [
        "print(similarities)"
      ],
      "metadata": {
        "colab": {
          "base_uri": "https://localhost:8080/"
        },
        "id": "TUwyhI2t6jQ8",
        "outputId": "d1c39d6a-0478-4527-ddb6-565d829cc7d4"
      },
      "execution_count": null,
      "outputs": [
        {
          "output_type": "stream",
          "name": "stdout",
          "text": [
            "{'About the Company': np.float32(-0.019757478), 'Return Policy': np.float32(0.4709469), 'Warranty': np.float32(0.124684885), 'Customer Service': np.float32(0.053664498), 'Environmental Commitment': np.float32(0.076738365)}\n"
          ]
        }
      ]
    },
    {
      "cell_type": "code",
      "source": [
        "#Step 9 -Find the best match\n",
        "best_match = max(similarities , key = similarities.get)\n",
        "print(f\"Best Match: {best_match}\\n Content: {sections[best_match]}\")"
      ],
      "metadata": {
        "colab": {
          "base_uri": "https://localhost:8080/"
        },
        "id": "cj6zK6FZ2bPh",
        "outputId": "58fe888f-c76e-47ef-cf55-0eb07ae9d545"
      },
      "execution_count": null,
      "outputs": [
        {
          "output_type": "stream",
          "name": "stdout",
          "text": [
            "Best Match: Return Policy\n",
            " Content:  We offer a 30-day return policy on all our products purchased directly through our website or authorized outlets. To be eligible for a return, the product must be unused, in its original packaging, and accompanied by the original invoice. Refunds are initiated after we receive and inspect the returned item. Returns are not accepted for customized products, opened software, or items marked 'final sale.' For international orders, return shipping costs are borne by the customer unless the product is found defective upon arrival. Please initiate your return through our online portal or by contacting our support team within 30 days of delivery. \n"
          ]
        }
      ]
    },
    {
      "cell_type": "code",
      "source": [
        "#Dtep 10 - Visualize the result\n",
        "titles = list(similarities.keys())\n",
        "scores = list(similarities.values())"
      ],
      "metadata": {
        "id": "dGKnxQFp2gQv"
      },
      "execution_count": null,
      "outputs": []
    },
    {
      "cell_type": "code",
      "source": [
        "plt.figure(figsize = (8,4))\n",
        "plt.barh(titles,scores,color='skyblue')\n",
        "plt.xlabel(\"Cosine similarities\")\n",
        "plt.show()"
      ],
      "metadata": {
        "colab": {
          "base_uri": "https://localhost:8080/",
          "height": 388
        },
        "id": "Ys1IjzoM7ENB",
        "outputId": "c506b2f8-6ce0-4b97-bf78-f8a8aa11ea28"
      },
      "execution_count": null,
      "outputs": [
        {
          "output_type": "display_data",
          "data": {
            "text/plain": [
              "<Figure size 800x400 with 1 Axes>"
            ],
            "image/png": "[encoded data removed]"
          },
          "metadata": {}
        }
      ]
    },
    {
      "cell_type": "markdown",
      "source": [
        "**Create a chatbot which can use semantic search to repond to a query given**"
      ],
      "metadata": {
        "id": "pU9zFCig8ER9"
      }
    },
    {
      "cell_type": "code",
      "source": [
        "def cosine_similarity(querry_embedding, section_embedding):\n",
        "  return np.dot(querry_embedding, section_embedding)/(np.linalg.norm(querry_embedding) * np.linalg.norm(section_embedding))"
      ],
      "metadata": {
        "id": "mFSTqo2L7x49"
      },
      "execution_count": null,
      "outputs": []
    },
    {
      "cell_type": "code",
      "source": [
        "def semantic_search(query , sections):\n",
        "  query_embedding = model.encode([query])[0]\n",
        "  best_match = None\n",
        "  max_similarity = 0.3\n",
        "\n",
        "  for section_title,content in sections.items():\n",
        "    section_embedding = model.encode([content])[0]\n",
        "    similarity = cosine_similarity(query_embedding, section_embedding)\n",
        "\n",
        "    if similarity > max_similarity:\n",
        "      max_similarity = similarity\n",
        "      best_match = section_title\n",
        "\n",
        "  if best_match is not None:\n",
        "    return f\"Bot: The most relevant section is: {best_match}, Here is a brief answer: {sections[best_match][:500]}\"\n",
        "  else:\n",
        "    return f\"Bot: I couldn't find the most relevant section.\""
      ],
      "metadata": {
        "id": "O0UeqfMZ8fQ9"
      },
      "execution_count": null,
      "outputs": []
    },
    {
      "cell_type": "code",
      "source": [
        "user_query = \"policy for returning the things\"\n",
        "semantic_search(user_query , sections)"
      ],
      "metadata": {
        "colab": {
          "base_uri": "https://localhost:8080/",
          "height": 88
        },
        "id": "gB1jqUz9-h8T",
        "outputId": "d33d7933-f50f-44d4-ba49-ace567c79e49"
      },
      "execution_count": null,
      "outputs": [
        {
          "output_type": "execute_result",
          "data": {
            "text/plain": [
              "\"Bot: The most relevant section is: Return Policy, Here is a brief answer:  We offer a 30-day return policy on all our products purchased directly through our website or authorized outlets. To be eligible for a return, the product must be unused, in its original packaging, and accompanied by the original invoice. Refunds are initiated after we receive and inspect the returned item. Returns are not accepted for customized products, opened software, or items marked 'final sale.' For international orders, return shipping costs are borne by the customer unless the product \""
            ],
            "application/vnd.google.colaboratory.intrinsic+json": {
              "type": "string"
            }
          },
          "metadata": {},
          "execution_count": 49
        }
      ]
    },
    {
      "cell_type": "code",
      "source": [],
      "metadata": {
        "id": "Tnb-yAwB-wVG"
      },
      "execution_count": null,
      "outputs": []
    }
  ]
}