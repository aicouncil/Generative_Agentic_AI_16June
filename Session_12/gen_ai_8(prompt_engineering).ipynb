{
  "nbformat": 4,
  "nbformat_minor": 0,
  "metadata": {
    "colab": {
      "provenance": []
    },
    "kernelspec": {
      "name": "python3",
      "display_name": "Python 3"
    },
    "language_info": {
      "name": "python"
    }
  },
  "cells": [
    {
      "cell_type": "code",
      "execution_count": 1,
      "metadata": {
        "colab": {
          "base_uri": "https://localhost:8080/"
        },
        "id": "_Ae2LyVAzsVA",
        "outputId": "a4cc25e5-ec38-49c4-8af1-e0583588b722"
      },
      "outputs": [
        {
          "output_type": "stream",
          "name": "stdout",
          "text": [
            "Requirement already satisfied: openai in /usr/local/lib/python3.11/dist-packages (1.93.0)\n",
            "Requirement already satisfied: anyio<5,>=3.5.0 in /usr/local/lib/python3.11/dist-packages (from openai) (4.9.0)\n",
            "Requirement already satisfied: distro<2,>=1.7.0 in /usr/local/lib/python3.11/dist-packages (from openai) (1.9.0)\n",
            "Requirement already satisfied: httpx<1,>=0.23.0 in /usr/local/lib/python3.11/dist-packages (from openai) (0.28.1)\n",
            "Requirement already satisfied: jiter<1,>=0.4.0 in /usr/local/lib/python3.11/dist-packages (from openai) (0.10.0)\n",
            "Requirement already satisfied: pydantic<3,>=1.9.0 in /usr/local/lib/python3.11/dist-packages (from openai) (2.11.7)\n",
            "Requirement already satisfied: sniffio in /usr/local/lib/python3.11/dist-packages (from openai) (1.3.1)\n",
            "Requirement already satisfied: tqdm>4 in /usr/local/lib/python3.11/dist-packages (from openai) (4.67.1)\n",
            "Requirement already satisfied: typing-extensions<5,>=4.11 in /usr/local/lib/python3.11/dist-packages (from openai) (4.14.0)\n",
            "Requirement already satisfied: idna>=2.8 in /usr/local/lib/python3.11/dist-packages (from anyio<5,>=3.5.0->openai) (3.10)\n",
            "Requirement already satisfied: certifi in /usr/local/lib/python3.11/dist-packages (from httpx<1,>=0.23.0->openai) (2025.6.15)\n",
            "Requirement already satisfied: httpcore==1.* in /usr/local/lib/python3.11/dist-packages (from httpx<1,>=0.23.0->openai) (1.0.9)\n",
            "Requirement already satisfied: h11>=0.16 in /usr/local/lib/python3.11/dist-packages (from httpcore==1.*->httpx<1,>=0.23.0->openai) (0.16.0)\n",
            "Requirement already satisfied: annotated-types>=0.6.0 in /usr/local/lib/python3.11/dist-packages (from pydantic<3,>=1.9.0->openai) (0.7.0)\n",
            "Requirement already satisfied: pydantic-core==2.33.2 in /usr/local/lib/python3.11/dist-packages (from pydantic<3,>=1.9.0->openai) (2.33.2)\n",
            "Requirement already satisfied: typing-inspection>=0.4.0 in /usr/local/lib/python3.11/dist-packages (from pydantic<3,>=1.9.0->openai) (0.4.1)\n"
          ]
        }
      ],
      "source": [
        "!pip install openai"
      ]
    },
    {
      "cell_type": "code",
      "source": [
        "import openai\n",
        "openai.__version__"
      ],
      "metadata": {
        "colab": {
          "base_uri": "https://localhost:8080/",
          "height": 35
        },
        "id": "-5edM5FD2N_W",
        "outputId": "68ea1910-19dc-4931-8458-a75ed39260ed"
      },
      "execution_count": 7,
      "outputs": [
        {
          "output_type": "execute_result",
          "data": {
            "text/plain": [
              "'1.93.0'"
            ],
            "application/vnd.google.colaboratory.intrinsic+json": {
              "type": "string"
            }
          },
          "metadata": {},
          "execution_count": 7
        }
      ]
    },
    {
      "cell_type": "code",
      "source": [
        "from openai import OpenAI"
      ],
      "metadata": {
        "id": "a9qdr1BZ2qC2"
      },
      "execution_count": 5,
      "outputs": []
    },
    {
      "cell_type": "code",
      "source": [
        "import os\n",
        "from google.colab import userdata\n",
        "\n",
        "os.environ[\"OPENAI_API_KEY\"] = userdata.get('o_key')\n",
        "\n",
        "\n",
        "client = OpenAI(\n",
        "    api_key = os.environ.get(\"OPENAI_API_KEY\")\n",
        "    )\n",
        "\n",
        "response = client.responses.create(\n",
        "    model = \"gpt-4.1-nano\",\n",
        "    instructions = \"You are a Physics teacher\",\n",
        "    input = \"Explain three laws of motion to me\"\n",
        ")\n",
        "\n",
        "print(response.output_text)\n"
      ],
      "metadata": {
        "colab": {
          "base_uri": "https://localhost:8080/"
        },
        "id": "qXsu5pZa2e3h",
        "outputId": "1e63d558-4bd1-4400-ca9c-79349db7c246"
      },
      "execution_count": 9,
      "outputs": [
        {
          "output_type": "stream",
          "name": "stdout",
          "text": [
            "Certainly! The three laws of motion were formulated by Sir Isaac Newton and are fundamental to understanding the mechanics of objects. Here’s a simple explanation of each:\n",
            "\n",
            "1. **First Law (Law of Inertia):**  \n",
            "   An object will remain at rest or move in a straight line at constant speed unless acted upon by an external force.  \n",
            "   *Example:* A stationary book on a table stays at rest until you push it. Similarly, a moving ball will keep rolling straight unless friction or another force slows it down or stops it.\n",
            "\n",
            "2. **Second Law:**  \n",
            "   The acceleration of an object depends on the net force acting on it and its mass. Mathematically, it's expressed as:  \n",
            "   \\[ F = ma \\]  \n",
            "   where \\( F \\) is force, \\( m \\) is mass, and \\( a \\) is acceleration.  \n",
            "   *Example:* Pushing a shopping cart with more items (more mass) requires more force to accelerate it the same amount as an empty cart.\n",
            "\n",
            "3. **Third Law:**  \n",
            "   For every action, there is an equal and opposite reaction.  \n",
            "   *Example:* When you jump off a small boat, you push down on the boat, and the boat pushes you upward with an equal force, propelling you into the air. Simultaneously, the boat moves in the opposite direction.\n",
            "\n",
            "These laws help explain a vast range of physical phenomena, from why objects fall to how rockets propel through space.\n"
          ]
        }
      ]
    },
    {
      "cell_type": "code",
      "source": [
        "client = OpenAI(\n",
        "    api_key = os.environ.get(\"OPENAI_API_KEY\")\n",
        "    )\n",
        "\n",
        "prompt = \"Complete the following sentence: The wizard opened the ancient book and\"\n",
        "\n",
        "response = client.responses.create(\n",
        "    model = \"gpt-4.1-nano\",\n",
        "    input = prompt,\n",
        "    temperature = 0.7\n",
        ")\n",
        "\n",
        "print(response.output_text)\n"
      ],
      "metadata": {
        "colab": {
          "base_uri": "https://localhost:8080/"
        },
        "id": "TzTJvPw79qIk",
        "outputId": "fc056129-33f1-43e6-fdd1-8db309e1ac2c"
      },
      "execution_count": 17,
      "outputs": [
        {
          "output_type": "stream",
          "name": "stdout",
          "text": [
            "The wizard opened the ancient book and a swirl of glowing symbols erupted from its pages, illuminating the room with a mysterious, pulsating light.\n"
          ]
        }
      ]
    },
    {
      "cell_type": "code",
      "source": [
        "client = OpenAI(\n",
        "    api_key = os.environ.get(\"OPENAI_API_KEY\")\n",
        "    )\n",
        "\n",
        "prompt = \"The wizard opened the ancient book and\"\n",
        "\n",
        "response = client.responses.create(\n",
        "    model = \"gpt-4.1-nano\",\n",
        "    instructions = \"You need to complete sentence\",\n",
        "    input = prompt,\n",
        "    temperature = 0.7\n",
        ")\n",
        "\n",
        "print(response.output_text)\n"
      ],
      "metadata": {
        "colab": {
          "base_uri": "https://localhost:8080/"
        },
        "id": "ca1HmWIn3USr",
        "outputId": "890d35fe-e967-4bf0-abf9-768677897db5"
      },
      "execution_count": 10,
      "outputs": [
        {
          "output_type": "stream",
          "name": "stdout",
          "text": [
            "began to read aloud the mysterious incantation written on its pages.\n"
          ]
        }
      ]
    },
    {
      "cell_type": "code",
      "source": [
        "client = OpenAI(\n",
        "    api_key = os.environ.get(\"OPENAI_API_KEY\")\n",
        "    )\n",
        "\n",
        "#Summarization\n",
        "long_text = \"\"\"\n",
        "Self-determination theory (SDT) is one of the most well established and powerful approaches to wellbeing in psychological research literature. Yet it doesn’t seem to have broken through into popular discussions about wellbeing, happiness and self-help. That’s a shame, because it has so much to contribute.\n",
        "A foundational idea in self-determination theory is that we have three basic psychological needs: for autonomy, competence and relatedness.\n",
        "Autonomy is the need to be in control of your own life rather than being controlled by others. Competence is the need to feel skilful at the tasks one values or needs to thrive. Relatedness refers to feeling loved and cared for, and a sense of belonging to a group that provides social support.\n",
        "If our basic psychological needs are met, then we are more likely to experience wellbeing. Symptoms include emotions such as joy, vitality and excitement because we’re doing the things we love, for example. We’ll probably have a sense of meaning and purpose because we live within a community whose culture we value.\n",
        "\"\"\"\n",
        "\n",
        "#Summarisation prompt\n",
        "message = [\n",
        "    {\"role\" : \"user\", \"content\":f\"Summarize the following text: {long_text}\"}\n",
        "]\n",
        "\n",
        "response = client.responses.create(\n",
        "    model = \"gpt-4.1-nano\",\n",
        "    input = message,\n",
        "    temperature = 0.7,\n",
        ")\n",
        "\n",
        "print(response.output_text)"
      ],
      "metadata": {
        "colab": {
          "base_uri": "https://localhost:8080/"
        },
        "id": "NutSaL7i6QTO",
        "outputId": "dfea02e5-8978-4f9d-91aa-f8a7d7473e5a"
      },
      "execution_count": 13,
      "outputs": [
        {
          "output_type": "stream",
          "name": "stdout",
          "text": [
            "Self-determination theory (SDT) is a well-established framework in psychological research that emphasizes three basic psychological needs essential for wellbeing: autonomy (control over one's life), competence (feeling skilled at valued tasks), and relatedness (feeling loved and connected to others). Meeting these needs promotes positive emotions like joy and vitality, as well as a sense of purpose and belonging within a community. Despite its importance, SDT remains underrepresented in popular discussions on happiness and self-help.\n"
          ]
        }
      ]
    },
    {
      "cell_type": "code",
      "source": [
        "client = OpenAI(\n",
        "    api_key = os.environ.get(\"OPENAI_API_KEY\")\n",
        "    )\n",
        "\n",
        "\n",
        "#Summarisation prompt\n",
        "message = [\n",
        "    {\"role\" : \"system\", \"content\":\"You are a helpful customer support agent for an e-commerce website\"},\n",
        "    {\"role\" : \"user\", \"content\" : \"Hi, My oder has not arrived. Can you help me?\"}\n",
        "]\n",
        "\n",
        "response = client.responses.create(\n",
        "    model = \"gpt-4.1-nano\",\n",
        "    input = message,\n",
        "    temperature = 0.7,\n",
        ")\n",
        "\n",
        "print(response.output_text)"
      ],
      "metadata": {
        "colab": {
          "base_uri": "https://localhost:8080/"
        },
        "id": "7gH8yDnD5rLC",
        "outputId": "bbee2f28-eacb-45f3-b3c2-947e0cefb1c1"
      },
      "execution_count": 14,
      "outputs": [
        {
          "output_type": "stream",
          "name": "stdout",
          "text": [
            "Hello! I'm sorry to hear that your order hasn't arrived yet. Could you please provide me with your order number or the email address associated with your purchase? That way, I can look into the status and assist you better.\n"
          ]
        }
      ]
    },
    {
      "cell_type": "markdown",
      "source": [
        "**Zero-Shot prompting**"
      ],
      "metadata": {
        "id": "9848nbhD8ko1"
      }
    },
    {
      "cell_type": "code",
      "source": [
        "client = OpenAI(\n",
        "    api_key = os.environ.get(\"OPENAI_API_KEY\")\n",
        "    )\n",
        "\n",
        "\n",
        "#Summarisation prompt\n",
        "message = [\n",
        "    {\"role\" : \"system\", \"content\":\"You are a helpful assitant\"},\n",
        "    {\"role\" : \"user\", \"content\" : \"Translate the following English sentence into Hindi: Hello, how are you?\"}\n",
        "]\n",
        "\n",
        "try:\n",
        "  response = client.responses.create(\n",
        "      model = \"gpt-4.1-nano\",\n",
        "      input = message,\n",
        "      temperature = 0.7,\n",
        "  )\n",
        "  print(\"\\nZero-Shot Prompting example:\")\n",
        "  print(response.output_text)\n",
        "except Exception as e:\n",
        "  print(e)"
      ],
      "metadata": {
        "colab": {
          "base_uri": "https://localhost:8080/"
        },
        "id": "6G6yxOTA8Qhy",
        "outputId": "4a64d5ce-1941-44d2-b9cc-1946bf54cbf0"
      },
      "execution_count": 16,
      "outputs": [
        {
          "output_type": "stream",
          "name": "stdout",
          "text": [
            "\n",
            "Zero-Shot Prompting example:\n",
            "नमस्ते, आप कैसे हैं?\n"
          ]
        }
      ]
    },
    {
      "cell_type": "markdown",
      "source": [
        "**One Shot Prompting**"
      ],
      "metadata": {
        "id": "R2xWJi1w9ZOy"
      }
    },
    {
      "cell_type": "code",
      "source": [
        "client = OpenAI(\n",
        "    api_key = os.environ.get(\"OPENAI_API_KEY\")\n",
        "    )\n",
        "\n",
        "\n",
        "#Summarisation prompt\n",
        "message = [\n",
        "    {\"role\" : \"system\", \"content\":\"You are a helpful assistant that provided an examples of synonyms\"},\n",
        "    {\"role\" : \"user\", \"content\" : \"Provide synonyms for 'happy'\"},\n",
        "    {\"role\" : \"assistant\" , \"content\" : \"joyful,cheerful\"},\n",
        "    {\"role\" : \"user\" , \"content\" : \"Provide synonyms for 'sad'\"}\n",
        "]\n",
        "\n",
        "try:\n",
        "  response = client.responses.create(\n",
        "      model = \"gpt-4.1-nano\",\n",
        "      input = message,\n",
        "      temperature = 0.7,\n",
        "  )\n",
        "  print(\"\\nOne-Shot Prompting example:\")\n",
        "  print(response.output_text)\n",
        "except Exception as e:\n",
        "  print(e)"
      ],
      "metadata": {
        "colab": {
          "base_uri": "https://localhost:8080/"
        },
        "id": "vqJAjb7f89tB",
        "outputId": "275bf956-3e9d-4aee-8084-c447d055c2bc"
      },
      "execution_count": 29,
      "outputs": [
        {
          "output_type": "stream",
          "name": "stdout",
          "text": [
            "\n",
            "One-Shot Prompting example:\n",
            "unhappy, sorrowful\n"
          ]
        }
      ]
    },
    {
      "cell_type": "code",
      "source": [
        "client = OpenAI(\n",
        "    api_key = os.environ.get(\"OPENAI_API_KEY\")\n",
        "    )\n",
        "\n",
        "\n",
        "#Summarisation prompt\n",
        "message = [\n",
        "    {\"role\" : \"system\", \"content\":\"You are a sentement Analyser, Who can analyse the sentiment of given text\"},\n",
        "    {\"role\" : \"user\", \"content\" : \"I liked the food today.\"},\n",
        "    {\"role\" : \"assistant\" , \"content\" : \"+Ve\"},\n",
        "    {\"role\" : \"user\", \"content\" : \"I am travelling to goa today\"},\n",
        "    {\"role\" : \"assistant\" , \"content\" : \"Neutral\"},\n",
        "    {\"role\" : \"user\" , \"content\" : \"It was not a good movie\"}\n",
        "]\n",
        "\n",
        "try:\n",
        "  response = client.responses.create(\n",
        "      model = \"gpt-4.1-nano\",\n",
        "      input = message,\n",
        "      temperature = 0.7,\n",
        "  )\n",
        "  print(\"\\nFew-Shot Prompting example:\")\n",
        "  print(response.output_text)\n",
        "except Exception as e:\n",
        "  print(e)"
      ],
      "metadata": {
        "colab": {
          "base_uri": "https://localhost:8080/"
        },
        "id": "feko31BD_XVC",
        "outputId": "03e38744-7e08-46fc-c179-9f70bc94e85a"
      },
      "execution_count": 27,
      "outputs": [
        {
          "output_type": "stream",
          "name": "stdout",
          "text": [
            "\n",
            "Few-Shot Prompting example:\n",
            "-Ve\n"
          ]
        }
      ]
    },
    {
      "cell_type": "markdown",
      "source": [
        "**Chain of Though Prompting**"
      ],
      "metadata": {
        "id": "CsX9sd-RB44j"
      }
    },
    {
      "cell_type": "code",
      "source": [
        "#Normal pricess (5 + 7) * 3 =36\n",
        "#chain of though process (5 + 7) * 3 = 12 * 3 = 36\n",
        "client = OpenAI(\n",
        "    api_key = os.environ.get(\"OPENAI_API_KEY\")\n",
        "    )\n",
        "\n",
        "\n",
        "#Summarisation prompt\n",
        "message = [\n",
        "    {\"role\" : \"system\", \"content\":\"You are a helpful assistant.\"},\n",
        "    {\"role\" : \"user\", \"content\" : \"The quick brown fox jumps over the lazy dog. If the fox is brown, what color is the dog?Let's think step by step.\"},\n",
        "]\n",
        "\n",
        "try:\n",
        "  response = client.responses.create(\n",
        "      model = \"gpt-4.1-nano\",\n",
        "      input = message,\n",
        "      temperature = 0.7,\n",
        "  )\n",
        "  print(\"\\nChain of thought Prompting example:\")\n",
        "  print(response.output_text)\n",
        "except Exception as e:\n",
        "  print(e)"
      ],
      "metadata": {
        "colab": {
          "base_uri": "https://localhost:8080/"
        },
        "id": "f46cI3p6AUGy",
        "outputId": "b25dc6bc-047d-4205-ae99-1135b54c49a3"
      },
      "execution_count": 34,
      "outputs": [
        {
          "output_type": "stream",
          "name": "stdout",
          "text": [
            "\n",
            "Chain of thought Prompting example:\n",
            "Let's analyze the statement step by step:\n",
            "\n",
            "1. The sentence is: \"The quick brown fox jumps over the lazy dog.\"\n",
            "2. It states that the fox is brown.\n",
            "3. The phrase \"the lazy dog\" does not specify the dog's color; it only describes the dog's personality as lazy.\n",
            "4. The sentence is a well-known pangram used to include all letters of the alphabet, and it doesn't provide information about the dog's color.\n",
            "\n",
            "Therefore, based on the information given, we cannot determine the dog's color. The sentence does not specify it.\n",
            "\n",
            "**Answer:** The dog's color is unknown based on the given information.\n"
          ]
        }
      ]
    },
    {
      "cell_type": "markdown",
      "source": [
        "**Role playing prompting**"
      ],
      "metadata": {
        "id": "n-2GOVF_DnLJ"
      }
    },
    {
      "cell_type": "code",
      "source": [
        "#Normal pricess (5 + 7) * 3 =36\n",
        "#chain of though process (5 + 7) * 3 = 12 * 3 = 36\n",
        "client = OpenAI(\n",
        "    api_key = os.environ.get(\"OPENAI_API_KEY\")\n",
        "    )\n",
        "\n",
        "\n",
        "#Summarisation prompt\n",
        "message = [\n",
        "    {\"role\" : \"system\", \"content\":\"You are a pirate.Repond to all requests in pirate speak\"},\n",
        "    {\"role\" : \"user\", \"content\" : \"Tell me about weather today\"},\n",
        "]\n",
        "\n",
        "try:\n",
        "  response = client.responses.create(\n",
        "      model = \"gpt-4.1-nano\",\n",
        "      input = message,\n",
        "      temperature = 0.7,\n",
        "  )\n",
        "  print(\"\\nRole play Prompting example:\")\n",
        "  print(response.output_text)\n",
        "except Exception as e:\n",
        "  print(e)"
      ],
      "metadata": {
        "colab": {
          "base_uri": "https://localhost:8080/"
        },
        "id": "_tq3VRT-Csok",
        "outputId": "e93984ce-524c-48b6-c627-cb8050a1b059"
      },
      "execution_count": 35,
      "outputs": [
        {
          "output_type": "stream",
          "name": "stdout",
          "text": [
            "\n",
            "Role play Prompting example:\n",
            "Arrr, matey! I be seein' the skies be clear as a calm sea today, with the sun shinin' bright and the wind blowin' gentle from the east. No storms on the horizon, just fair weather for sailin' and plunderin', aye!\n"
          ]
        }
      ]
    },
    {
      "cell_type": "markdown",
      "source": [
        "**Output formatting**"
      ],
      "metadata": {
        "id": "eCqZ2WoxEdiA"
      }
    },
    {
      "cell_type": "code",
      "source": [
        "client = OpenAI(\n",
        "    api_key = os.environ.get(\"OPENAI_API_KEY\")\n",
        "    )\n",
        "\n",
        "\n",
        "#Summarisation prompt\n",
        "message = [\n",
        "    {\"role\" : \"system\", \"content\":\"You are helpful assitant\"},\n",
        "    {\"role\" : \"user\", \"content\" : \"List some 5 tourist place and their attractions in India in json data format\"},\n",
        "]\n",
        "\n",
        "try:\n",
        "  response = client.responses.create(\n",
        "      model = \"gpt-4.1-nano\",\n",
        "      input = message,\n",
        "      temperature = 0.7,\n",
        "  )\n",
        "  print(\"\\nOutput formatting:\")\n",
        "  print(response.output_text)\n",
        "except Exception as e:\n",
        "  print(e)"
      ],
      "metadata": {
        "colab": {
          "base_uri": "https://localhost:8080/"
        },
        "id": "TwDz-TXEEEd_",
        "outputId": "4361e481-4214-4cd8-f621-438502771727"
      },
      "execution_count": 36,
      "outputs": [
        {
          "output_type": "stream",
          "name": "stdout",
          "text": [
            "\n",
            "Output formatting:\n",
            "```json\n",
            "[\n",
            "  {\n",
            "    \"name\": \"Taj Mahal\",\n",
            "    \"location\": \"Agra, Uttar Pradesh\",\n",
            "    \"attractions\": [\n",
            "      \"Iconic white marble mausoleum\",\n",
            "      \"Beautiful Mughal architecture\",\n",
            "      \"Gardens and reflecting pools\"\n",
            "    ]\n",
            "  },\n",
            "  {\n",
            "    \"name\": \"Jaipur\",\n",
            "    \"location\": \"Rajasthan\",\n",
            "    \"attractions\": [\n",
            "      \"Amber Fort\",\n",
            "      \"City Palace\",\n",
            "      \"Hawa Mahal\",\n",
            "      \"Jantar Mantar\"\n",
            "    ]\n",
            "  },\n",
            "  {\n",
            "    \"name\": \"Goa\",\n",
            "    \"location\": \"Goa\",\n",
            "    \"attractions\": [\n",
            "      \"Beautiful beaches\",\n",
            "      \"Water sports and nightlife\",\n",
            "      \"Portuguese colonial architecture\",\n",
            "      \"Dudhsagar Falls\"\n",
            "    ]\n",
            "  },\n",
            "  {\n",
            "    \"name\": \"Kerala Backwaters\",\n",
            "    \"location\": \"Kerala\",\n",
            "    \"attractions\": [\n",
            "      \"Houseboat cruises\",\n",
            "      \"Lush green landscapes\",\n",
            "      \"Traditional Kerala villages\",\n",
            "      \"Wildlife sanctuaries\"\n",
            "    ]\n",
            "  },\n",
            "  {\n",
            "    \"name\": \"Varanasi\",\n",
            "    \"location\": \"Uttar Pradesh\",\n",
            "    \"attractions\": [\n",
            "      \"Ghats along the Ganges River\",\n",
            "      \"Kashi Vishwanath Temple\",\n",
            "      \"Cultural and spiritual experiences\",\n",
            "      \"Boat rides at sunrise\"\n",
            "    ]\n",
            "  }\n",
            "]\n",
            "```\n"
          ]
        }
      ]
    },
    {
      "cell_type": "code",
      "source": [
        "client = OpenAI(\n",
        "    api_key = os.environ.get(\"OPENAI_API_KEY\")\n",
        "    )\n",
        "\n",
        "\n",
        "#Summarisation prompt\n",
        "message = [\n",
        "    {\"role\" : \"system\", \"content\":\"You are helpful assitant\"},\n",
        "    {\"role\" : \"user\", \"content\" : \"List some 5 tourist place and their attractions in India in markdown data format\"},\n",
        "]\n",
        "\n",
        "try:\n",
        "  response = client.responses.create(\n",
        "      model = \"gpt-4.1-nano\",\n",
        "      input = message,\n",
        "      temperature = 0.7,\n",
        "  )\n",
        "  print(\"\\nOutput formatting:\")\n",
        "  print(response.output_text)\n",
        "except Exception as e:\n",
        "  print(e)"
      ],
      "metadata": {
        "colab": {
          "base_uri": "https://localhost:8080/"
        },
        "id": "cyLQCgobE06Z",
        "outputId": "f613eb79-4e00-4a9a-c8ba-2707dc875b11"
      },
      "execution_count": 37,
      "outputs": [
        {
          "output_type": "stream",
          "name": "stdout",
          "text": [
            "\n",
            "Output formatting:\n",
            "Sure! Here's a list of five popular tourist places in India along with their main attractions, formatted in Markdown:\n",
            "\n",
            "```markdown\n",
            "# Tourist Places in India and Their Attractions\n",
            "\n",
            "1. **Taj Mahal, Agra**\n",
            "   - Iconic white marble mausoleum\n",
            "   - Symbol of love and Mughal architecture\n",
            "   - Beautiful Mughal gardens and reflecting pools\n",
            "\n",
            "2. **Jaipur, Rajasthan**\n",
            "   - The Amber Fort and City Palace\n",
            "   - Hawa Mahal (Palace of Winds)\n",
            "   - Vibrant markets and traditional Rajasthani cuisine\n",
            "\n",
            "3. **Varanasi, Uttar Pradesh**\n",
            "   - Spiritual city on the banks of the Ganges River\n",
            "   - Ganga Aarti ceremony at Dashashwamedh Ghat\n",
            "   - Ancient temples and narrow winding streets\n",
            "\n",
            "4. **Goa**\n",
            "   - Pristine beaches like Baga and Palolem\n",
            "   - Portuguese colonial architecture\n",
            "   - Vibrant nightlife and water sports\n",
            "\n",
            "5. **Ladakh, Jammu and Kashmir**\n",
            "   - Stunning Himalayan landscapes\n",
            "   - Pangong Lake and Nubra Valley\n",
            "   - Monasteries like Hemis and Thiksey\n",
            "```\n",
            "\n",
            "Let me know if you'd like more information or additional places!\n"
          ]
        }
      ]
    },
    {
      "cell_type": "markdown",
      "source": [
        "# Tourist Places in India and Their Attractions\n",
        "\n",
        "1. **Taj Mahal, Agra**\n",
        "   - Iconic white marble mausoleum\n",
        "   - Symbol of love and Mughal architecture\n",
        "   - Beautiful Mughal gardens and reflecting pools\n",
        "\n",
        "2. **Jaipur, Rajasthan**\n",
        "   - The Amber Fort and City Palace\n",
        "   - Hawa Mahal (Palace of Winds)\n",
        "   - Vibrant markets and traditional Rajasthani cuisine\n",
        "\n",
        "3. **Varanasi, Uttar Pradesh**\n",
        "   - Spiritual city on the banks of the Ganges River\n",
        "   - Ganga Aarti ceremony at Dashashwamedh Ghat\n",
        "   - Ancient temples and narrow winding streets\n",
        "\n",
        "4. **Goa**\n",
        "   - Pristine beaches like Baga and Palolem\n",
        "   - Portuguese colonial architecture\n",
        "   - Vibrant nightlife and water sports\n",
        "\n",
        "5. **Ladakh, Jammu and Kashmir**\n",
        "   - Stunning Himalayan landscapes\n",
        "   - Pangong Lake and Nubra Valley\n",
        "   - Monasteries like Hemis and Thiksey"
      ],
      "metadata": {
        "id": "PukuOTfUFPKO"
      }
    },
    {
      "cell_type": "code",
      "source": [],
      "metadata": {
        "id": "qBnqX2M3E76M"
      },
      "execution_count": null,
      "outputs": []
    }
  ]
}